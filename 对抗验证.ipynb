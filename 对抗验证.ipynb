{
 "cells": [
  {
   "cell_type": "code",
   "execution_count": 4,
   "metadata": {
    "ExecuteTime": {
     "end_time": "2020-07-27T07:09:45.976191Z",
     "start_time": "2020-07-27T07:09:45.543121Z"
    }
   },
   "outputs": [],
   "source": [
    "import numpy as np\n",
    "import pandas as pd\n",
    "import lightgbm as lgb\n",
    "from sklearn.model_selection import StratifiedKFold\n",
    "from sklearn.metrics import f1_score, precision_score, recall_score, accuracy_score\n",
    "from sklearn.preprocessing import LabelEncoder\n",
    "import seaborn as sns\n",
    "import matplotlib.pyplot as plt\n",
    "from scipy.stats import entropy\n",
    "from sklearn.ensemble import RandomForestClassifier\n",
    "from sklearn.neighbors import KNeighborsClassifier\n",
    "from sklearn.svm import SVC\n",
    "from sklearn.preprocessing import StandardScaler,MinMaxScaler\n",
    "import gc\n",
    "import os\n",
    "from tqdm import tqdm\n",
    "pd.set_option('display.max_columns', 600)\n",
    "pd.set_option('display.max_rows', 600)\n",
    "from IPython.core.interactiveshell import InteractiveShell\n",
    "InteractiveShell.ast_node_interactivity = \"all\""
   ]
  },
  {
   "cell_type": "code",
   "execution_count": 2,
   "metadata": {
    "ExecuteTime": {
     "end_time": "2020-07-27T07:08:12.043356Z",
     "start_time": "2020-07-27T07:08:09.485331Z"
    }
   },
   "outputs": [],
   "source": [
    "data_path = ''\n",
    "data_train = pd.read_csv(data_path+'sensor_train.csv')\n",
    "data_test = pd.read_csv(data_path+'sensor_test.csv')\n",
    "data_test['fragment_id'] += 10000\n",
    "label = 'behavior_id'"
   ]
  },
  {
   "cell_type": "code",
   "execution_count": 5,
   "metadata": {
    "ExecuteTime": {
     "end_time": "2020-07-27T07:10:06.180695Z",
     "start_time": "2020-07-27T07:09:47.993359Z"
    }
   },
   "outputs": [
    {
     "name": "stderr",
     "output_type": "stream",
     "text": [
      "100%|██████████| 8/8 [00:17<00:00,  2.22s/it]\n"
     ]
    },
    {
     "name": "stdout",
     "output_type": "stream",
     "text": [
      "48\n",
      "['acc_x_min', 'acc_x_max', 'acc_x_mean', 'acc_x_median', 'acc_x_std', 'acc_x_skew', 'acc_y_min', 'acc_y_max', 'acc_y_mean', 'acc_y_median', 'acc_y_std', 'acc_y_skew', 'acc_z_min', 'acc_z_max', 'acc_z_mean', 'acc_z_median', 'acc_z_std', 'acc_z_skew', 'acc_xg_min', 'acc_xg_max', 'acc_xg_mean', 'acc_xg_median', 'acc_xg_std', 'acc_xg_skew', 'acc_yg_min', 'acc_yg_max', 'acc_yg_mean', 'acc_yg_median', 'acc_yg_std', 'acc_yg_skew', 'acc_zg_min', 'acc_zg_max', 'acc_zg_mean', 'acc_zg_median', 'acc_zg_std', 'acc_zg_skew', 'acc_min', 'acc_max', 'acc_mean', 'acc_median', 'acc_std', 'acc_skew', 'accg_min', 'accg_max', 'accg_mean', 'accg_median', 'accg_std', 'accg_skew']\n"
     ]
    }
   ],
   "source": [
    "data = pd.concat([data_train, data_test], sort=False)\n",
    "df = data.drop_duplicates(subset=['fragment_id']).reset_index(drop=True)[['fragment_id', 'behavior_id']]\n",
    "\n",
    "data['acc'] = (data['acc_x'] ** 2 + data['acc_y'] ** 2 + data['acc_z'] ** 2) ** 0.5\n",
    "data['accg'] = (data['acc_xg'] ** 2 + data['acc_yg'] ** 2 + data['acc_zg'] ** 2) ** 0.5\n",
    "data['xy'] = (data['acc_x'] ** 2 + data['acc_y'] ** 2 ) ** 0.5\n",
    "data['xy_g'] = (data['acc_xg'] ** 2 + data['acc_yg'] ** 2) ** 0.5\n",
    "\n",
    "for f in tqdm([f for f in data.columns if 'acc' in f]):\n",
    "    for stat in ['min', 'max', 'mean', 'median', 'std', 'skew']:\n",
    "        df[f+'_'+stat] = data.groupby('fragment_id')[f].agg(stat).values\n",
    "        \n",
    "train_df = df[df[label].isna()==False].reset_index(drop=True)\n",
    "test_df = df[df[label].isna()==True].reset_index(drop=True)\n",
    "\n",
    "drop_feat = []\n",
    "used_feat = [f for f in train_df.columns if f not in (['fragment_id', label] + drop_feat)]\n",
    "print(len(used_feat))\n",
    "print(used_feat)\n",
    "scaler = MinMaxScaler()\n",
    "\n",
    "train_x = train_df[used_feat]\n",
    "train_y = train_df[label]\n",
    "test_x = test_df[used_feat]"
   ]
  },
  {
   "cell_type": "code",
   "execution_count": 12,
   "metadata": {
    "ExecuteTime": {
     "end_time": "2020-07-27T07:12:41.259006Z",
     "start_time": "2020-07-27T07:12:41.223030Z"
    }
   },
   "outputs": [
    {
     "data": {
      "text/html": [
       "<div>\n",
       "<style scoped>\n",
       "    .dataframe tbody tr th:only-of-type {\n",
       "        vertical-align: middle;\n",
       "    }\n",
       "\n",
       "    .dataframe tbody tr th {\n",
       "        vertical-align: top;\n",
       "    }\n",
       "\n",
       "    .dataframe thead th {\n",
       "        text-align: right;\n",
       "    }\n",
       "</style>\n",
       "<table border=\"1\" class=\"dataframe\">\n",
       "  <thead>\n",
       "    <tr style=\"text-align: right;\">\n",
       "      <th></th>\n",
       "      <th>acc_max</th>\n",
       "      <th>acc_mean</th>\n",
       "      <th>acc_median</th>\n",
       "      <th>acc_min</th>\n",
       "      <th>acc_skew</th>\n",
       "      <th>acc_std</th>\n",
       "      <th>acc_x_max</th>\n",
       "      <th>acc_x_mean</th>\n",
       "      <th>acc_x_median</th>\n",
       "      <th>acc_x_min</th>\n",
       "      <th>acc_x_skew</th>\n",
       "      <th>acc_x_std</th>\n",
       "      <th>acc_xg_max</th>\n",
       "      <th>acc_xg_mean</th>\n",
       "      <th>acc_xg_median</th>\n",
       "      <th>acc_xg_min</th>\n",
       "      <th>acc_xg_skew</th>\n",
       "      <th>acc_xg_std</th>\n",
       "      <th>acc_y_max</th>\n",
       "      <th>acc_y_mean</th>\n",
       "      <th>acc_y_median</th>\n",
       "      <th>acc_y_min</th>\n",
       "      <th>acc_y_skew</th>\n",
       "      <th>acc_y_std</th>\n",
       "      <th>acc_yg_max</th>\n",
       "      <th>acc_yg_mean</th>\n",
       "      <th>acc_yg_median</th>\n",
       "      <th>acc_yg_min</th>\n",
       "      <th>acc_yg_skew</th>\n",
       "      <th>acc_yg_std</th>\n",
       "      <th>acc_z_max</th>\n",
       "      <th>acc_z_mean</th>\n",
       "      <th>acc_z_median</th>\n",
       "      <th>acc_z_min</th>\n",
       "      <th>acc_z_skew</th>\n",
       "      <th>acc_z_std</th>\n",
       "      <th>acc_zg_max</th>\n",
       "      <th>acc_zg_mean</th>\n",
       "      <th>acc_zg_median</th>\n",
       "      <th>acc_zg_min</th>\n",
       "      <th>acc_zg_skew</th>\n",
       "      <th>acc_zg_std</th>\n",
       "      <th>accg_max</th>\n",
       "      <th>accg_mean</th>\n",
       "      <th>accg_median</th>\n",
       "      <th>accg_min</th>\n",
       "      <th>accg_skew</th>\n",
       "      <th>accg_std</th>\n",
       "      <th>target</th>\n",
       "    </tr>\n",
       "  </thead>\n",
       "  <tbody>\n",
       "    <tr>\n",
       "      <th>0</th>\n",
       "      <td>0.953939</td>\n",
       "      <td>0.281656</td>\n",
       "      <td>0.223607</td>\n",
       "      <td>0.000000</td>\n",
       "      <td>1.141795</td>\n",
       "      <td>0.225918</td>\n",
       "      <td>0.4</td>\n",
       "      <td>-0.001754</td>\n",
       "      <td>0.0</td>\n",
       "      <td>-0.9</td>\n",
       "      <td>-1.523203</td>\n",
       "      <td>0.194102</td>\n",
       "      <td>1.3</td>\n",
       "      <td>0.677193</td>\n",
       "      <td>0.7</td>\n",
       "      <td>-0.2</td>\n",
       "      <td>-0.909003</td>\n",
       "      <td>0.200016</td>\n",
       "      <td>0.2</td>\n",
       "      <td>-0.001754</td>\n",
       "      <td>-0.0</td>\n",
       "      <td>-0.3</td>\n",
       "      <td>-0.497876</td>\n",
       "      <td>0.085547</td>\n",
       "      <td>5.2</td>\n",
       "      <td>4.773684</td>\n",
       "      <td>4.8</td>\n",
       "      <td>4.4</td>\n",
       "      <td>0.284234</td>\n",
       "      <td>0.158707</td>\n",
       "      <td>0.7</td>\n",
       "      <td>0.003509</td>\n",
       "      <td>-0.0</td>\n",
       "      <td>-0.8</td>\n",
       "      <td>-0.283199</td>\n",
       "      <td>0.294573</td>\n",
       "      <td>9.3</td>\n",
       "      <td>8.508772</td>\n",
       "      <td>8.5</td>\n",
       "      <td>7.2</td>\n",
       "      <td>-0.746650</td>\n",
       "      <td>0.338738</td>\n",
       "      <td>10.560776</td>\n",
       "      <td>9.784581</td>\n",
       "      <td>9.786726</td>\n",
       "      <td>8.635392</td>\n",
       "      <td>-0.677138</td>\n",
       "      <td>0.293469</td>\n",
       "      <td>1.0</td>\n",
       "    </tr>\n",
       "    <tr>\n",
       "      <th>1</th>\n",
       "      <td>0.714143</td>\n",
       "      <td>0.186749</td>\n",
       "      <td>0.141421</td>\n",
       "      <td>0.000000</td>\n",
       "      <td>1.626938</td>\n",
       "      <td>0.147525</td>\n",
       "      <td>0.2</td>\n",
       "      <td>-0.025000</td>\n",
       "      <td>-0.0</td>\n",
       "      <td>-0.5</td>\n",
       "      <td>-1.350853</td>\n",
       "      <td>0.109959</td>\n",
       "      <td>1.0</td>\n",
       "      <td>0.678571</td>\n",
       "      <td>0.7</td>\n",
       "      <td>0.4</td>\n",
       "      <td>-0.199871</td>\n",
       "      <td>0.126080</td>\n",
       "      <td>0.2</td>\n",
       "      <td>0.026786</td>\n",
       "      <td>0.0</td>\n",
       "      <td>-0.1</td>\n",
       "      <td>0.434311</td>\n",
       "      <td>0.058748</td>\n",
       "      <td>5.1</td>\n",
       "      <td>4.830357</td>\n",
       "      <td>4.8</td>\n",
       "      <td>4.6</td>\n",
       "      <td>0.411559</td>\n",
       "      <td>0.123465</td>\n",
       "      <td>0.6</td>\n",
       "      <td>0.078571</td>\n",
       "      <td>0.1</td>\n",
       "      <td>-0.5</td>\n",
       "      <td>0.129004</td>\n",
       "      <td>0.184602</td>\n",
       "      <td>9.4</td>\n",
       "      <td>8.519643</td>\n",
       "      <td>8.5</td>\n",
       "      <td>8.1</td>\n",
       "      <td>0.917398</td>\n",
       "      <td>0.241525</td>\n",
       "      <td>10.521407</td>\n",
       "      <td>9.819616</td>\n",
       "      <td>9.791067</td>\n",
       "      <td>9.441398</td>\n",
       "      <td>1.053017</td>\n",
       "      <td>0.202188</td>\n",
       "      <td>1.0</td>\n",
       "    </tr>\n",
       "    <tr>\n",
       "      <th>2</th>\n",
       "      <td>1.513275</td>\n",
       "      <td>0.363894</td>\n",
       "      <td>0.244949</td>\n",
       "      <td>0.000000</td>\n",
       "      <td>1.890966</td>\n",
       "      <td>0.316852</td>\n",
       "      <td>0.7</td>\n",
       "      <td>-0.028070</td>\n",
       "      <td>-0.0</td>\n",
       "      <td>-0.5</td>\n",
       "      <td>0.489693</td>\n",
       "      <td>0.239609</td>\n",
       "      <td>1.8</td>\n",
       "      <td>0.792982</td>\n",
       "      <td>0.7</td>\n",
       "      <td>0.2</td>\n",
       "      <td>0.853589</td>\n",
       "      <td>0.339569</td>\n",
       "      <td>0.2</td>\n",
       "      <td>-0.005263</td>\n",
       "      <td>0.0</td>\n",
       "      <td>-0.6</td>\n",
       "      <td>-1.635879</td>\n",
       "      <td>0.136828</td>\n",
       "      <td>5.4</td>\n",
       "      <td>4.952632</td>\n",
       "      <td>4.9</td>\n",
       "      <td>4.4</td>\n",
       "      <td>-0.081638</td>\n",
       "      <td>0.234601</td>\n",
       "      <td>1.2</td>\n",
       "      <td>0.024561</td>\n",
       "      <td>0.0</td>\n",
       "      <td>-1.3</td>\n",
       "      <td>-0.770588</td>\n",
       "      <td>0.396989</td>\n",
       "      <td>9.8</td>\n",
       "      <td>8.394737</td>\n",
       "      <td>8.4</td>\n",
       "      <td>7.2</td>\n",
       "      <td>-0.103604</td>\n",
       "      <td>0.433186</td>\n",
       "      <td>10.813418</td>\n",
       "      <td>9.790638</td>\n",
       "      <td>9.827004</td>\n",
       "      <td>8.823831</td>\n",
       "      <td>-0.205059</td>\n",
       "      <td>0.355424</td>\n",
       "      <td>1.0</td>\n",
       "    </tr>\n",
       "    <tr>\n",
       "      <th>3</th>\n",
       "      <td>1.791647</td>\n",
       "      <td>0.400589</td>\n",
       "      <td>0.282843</td>\n",
       "      <td>0.000000</td>\n",
       "      <td>1.973559</td>\n",
       "      <td>0.373524</td>\n",
       "      <td>0.5</td>\n",
       "      <td>0.001818</td>\n",
       "      <td>0.0</td>\n",
       "      <td>-0.4</td>\n",
       "      <td>0.072280</td>\n",
       "      <td>0.178980</td>\n",
       "      <td>1.2</td>\n",
       "      <td>0.410909</td>\n",
       "      <td>0.4</td>\n",
       "      <td>-0.6</td>\n",
       "      <td>-0.555181</td>\n",
       "      <td>0.319532</td>\n",
       "      <td>0.4</td>\n",
       "      <td>0.023636</td>\n",
       "      <td>-0.0</td>\n",
       "      <td>-0.3</td>\n",
       "      <td>1.126930</td>\n",
       "      <td>0.121661</td>\n",
       "      <td>5.5</td>\n",
       "      <td>5.049091</td>\n",
       "      <td>5.0</td>\n",
       "      <td>4.5</td>\n",
       "      <td>-0.054651</td>\n",
       "      <td>0.196141</td>\n",
       "      <td>1.7</td>\n",
       "      <td>0.094545</td>\n",
       "      <td>0.0</td>\n",
       "      <td>-0.8</td>\n",
       "      <td>1.413450</td>\n",
       "      <td>0.496438</td>\n",
       "      <td>9.5</td>\n",
       "      <td>8.340000</td>\n",
       "      <td>8.3</td>\n",
       "      <td>7.5</td>\n",
       "      <td>0.472631</td>\n",
       "      <td>0.414371</td>\n",
       "      <td>10.585367</td>\n",
       "      <td>9.767121</td>\n",
       "      <td>9.780082</td>\n",
       "      <td>8.828363</td>\n",
       "      <td>0.193839</td>\n",
       "      <td>0.360655</td>\n",
       "      <td>1.0</td>\n",
       "    </tr>\n",
       "    <tr>\n",
       "      <th>4</th>\n",
       "      <td>1.886796</td>\n",
       "      <td>0.668420</td>\n",
       "      <td>0.547723</td>\n",
       "      <td>0.141421</td>\n",
       "      <td>1.136149</td>\n",
       "      <td>0.441521</td>\n",
       "      <td>0.9</td>\n",
       "      <td>0.001818</td>\n",
       "      <td>0.0</td>\n",
       "      <td>-1.3</td>\n",
       "      <td>-0.762639</td>\n",
       "      <td>0.338018</td>\n",
       "      <td>1.5</td>\n",
       "      <td>0.609091</td>\n",
       "      <td>0.7</td>\n",
       "      <td>-0.5</td>\n",
       "      <td>-0.127315</td>\n",
       "      <td>0.419114</td>\n",
       "      <td>0.6</td>\n",
       "      <td>0.003636</td>\n",
       "      <td>0.0</td>\n",
       "      <td>-0.5</td>\n",
       "      <td>0.464490</td>\n",
       "      <td>0.192415</td>\n",
       "      <td>5.3</td>\n",
       "      <td>4.645455</td>\n",
       "      <td>4.7</td>\n",
       "      <td>3.7</td>\n",
       "      <td>-0.382833</td>\n",
       "      <td>0.296784</td>\n",
       "      <td>1.8</td>\n",
       "      <td>0.023636</td>\n",
       "      <td>0.1</td>\n",
       "      <td>-1.7</td>\n",
       "      <td>-0.013071</td>\n",
       "      <td>0.705787</td>\n",
       "      <td>10.4</td>\n",
       "      <td>8.558182</td>\n",
       "      <td>8.6</td>\n",
       "      <td>5.8</td>\n",
       "      <td>-0.615809</td>\n",
       "      <td>0.753434</td>\n",
       "      <td>11.500435</td>\n",
       "      <td>9.778645</td>\n",
       "      <td>9.819878</td>\n",
       "      <td>7.856844</td>\n",
       "      <td>-0.043196</td>\n",
       "      <td>0.628718</td>\n",
       "      <td>1.0</td>\n",
       "    </tr>\n",
       "  </tbody>\n",
       "</table>\n",
       "</div>"
      ],
      "text/plain": [
       "    acc_max  acc_mean  acc_median   acc_min  acc_skew   acc_std  acc_x_max  \\\n",
       "0  0.953939  0.281656    0.223607  0.000000  1.141795  0.225918        0.4   \n",
       "1  0.714143  0.186749    0.141421  0.000000  1.626938  0.147525        0.2   \n",
       "2  1.513275  0.363894    0.244949  0.000000  1.890966  0.316852        0.7   \n",
       "3  1.791647  0.400589    0.282843  0.000000  1.973559  0.373524        0.5   \n",
       "4  1.886796  0.668420    0.547723  0.141421  1.136149  0.441521        0.9   \n",
       "\n",
       "   acc_x_mean  acc_x_median  acc_x_min  acc_x_skew  acc_x_std  acc_xg_max  \\\n",
       "0   -0.001754           0.0       -0.9   -1.523203   0.194102         1.3   \n",
       "1   -0.025000          -0.0       -0.5   -1.350853   0.109959         1.0   \n",
       "2   -0.028070          -0.0       -0.5    0.489693   0.239609         1.8   \n",
       "3    0.001818           0.0       -0.4    0.072280   0.178980         1.2   \n",
       "4    0.001818           0.0       -1.3   -0.762639   0.338018         1.5   \n",
       "\n",
       "   acc_xg_mean  acc_xg_median  acc_xg_min  acc_xg_skew  acc_xg_std  acc_y_max  \\\n",
       "0     0.677193            0.7        -0.2    -0.909003    0.200016        0.2   \n",
       "1     0.678571            0.7         0.4    -0.199871    0.126080        0.2   \n",
       "2     0.792982            0.7         0.2     0.853589    0.339569        0.2   \n",
       "3     0.410909            0.4        -0.6    -0.555181    0.319532        0.4   \n",
       "4     0.609091            0.7        -0.5    -0.127315    0.419114        0.6   \n",
       "\n",
       "   acc_y_mean  acc_y_median  acc_y_min  acc_y_skew  acc_y_std  acc_yg_max  \\\n",
       "0   -0.001754          -0.0       -0.3   -0.497876   0.085547         5.2   \n",
       "1    0.026786           0.0       -0.1    0.434311   0.058748         5.1   \n",
       "2   -0.005263           0.0       -0.6   -1.635879   0.136828         5.4   \n",
       "3    0.023636          -0.0       -0.3    1.126930   0.121661         5.5   \n",
       "4    0.003636           0.0       -0.5    0.464490   0.192415         5.3   \n",
       "\n",
       "   acc_yg_mean  acc_yg_median  acc_yg_min  acc_yg_skew  acc_yg_std  acc_z_max  \\\n",
       "0     4.773684            4.8         4.4     0.284234    0.158707        0.7   \n",
       "1     4.830357            4.8         4.6     0.411559    0.123465        0.6   \n",
       "2     4.952632            4.9         4.4    -0.081638    0.234601        1.2   \n",
       "3     5.049091            5.0         4.5    -0.054651    0.196141        1.7   \n",
       "4     4.645455            4.7         3.7    -0.382833    0.296784        1.8   \n",
       "\n",
       "   acc_z_mean  acc_z_median  acc_z_min  acc_z_skew  acc_z_std  acc_zg_max  \\\n",
       "0    0.003509          -0.0       -0.8   -0.283199   0.294573         9.3   \n",
       "1    0.078571           0.1       -0.5    0.129004   0.184602         9.4   \n",
       "2    0.024561           0.0       -1.3   -0.770588   0.396989         9.8   \n",
       "3    0.094545           0.0       -0.8    1.413450   0.496438         9.5   \n",
       "4    0.023636           0.1       -1.7   -0.013071   0.705787        10.4   \n",
       "\n",
       "   acc_zg_mean  acc_zg_median  acc_zg_min  acc_zg_skew  acc_zg_std   accg_max  \\\n",
       "0     8.508772            8.5         7.2    -0.746650    0.338738  10.560776   \n",
       "1     8.519643            8.5         8.1     0.917398    0.241525  10.521407   \n",
       "2     8.394737            8.4         7.2    -0.103604    0.433186  10.813418   \n",
       "3     8.340000            8.3         7.5     0.472631    0.414371  10.585367   \n",
       "4     8.558182            8.6         5.8    -0.615809    0.753434  11.500435   \n",
       "\n",
       "   accg_mean  accg_median  accg_min  accg_skew  accg_std  target  \n",
       "0   9.784581     9.786726  8.635392  -0.677138  0.293469     1.0  \n",
       "1   9.819616     9.791067  9.441398   1.053017  0.202188     1.0  \n",
       "2   9.790638     9.827004  8.823831  -0.205059  0.355424     1.0  \n",
       "3   9.767121     9.780082  8.828363   0.193839  0.360655     1.0  \n",
       "4   9.778645     9.819878  7.856844  -0.043196  0.628718     1.0  "
      ]
     },
     "execution_count": 12,
     "metadata": {},
     "output_type": "execute_result"
    }
   ],
   "source": [
    "train_x.head()"
   ]
  },
  {
   "cell_type": "code",
   "execution_count": 11,
   "metadata": {
    "ExecuteTime": {
     "end_time": "2020-07-27T07:12:19.414888Z",
     "start_time": "2020-07-27T07:12:19.316876Z"
    }
   },
   "outputs": [],
   "source": [
    "features = [c for c in train_x.columns if c not in ['id', 'target']]\n",
    "\n",
    "len_train = len(train_x)\n",
    "train_x['target'] = 1\n",
    "train_x = train_x.append(test_x).reset_index(drop = True)\n",
    "train_x['target'] = train_x['target'].fillna(0)"
   ]
  },
  {
   "cell_type": "code",
   "execution_count": 18,
   "metadata": {
    "ExecuteTime": {
     "end_time": "2020-07-27T07:16:15.245793Z",
     "start_time": "2020-07-27T07:16:15.157786Z"
    }
   },
   "outputs": [],
   "source": [
    "\n",
    "random_state = 42\n",
    "np.random.seed(random_state)\n",
    "lgb_params = {\n",
    "    'boosting_type': 'gbdt',\n",
    "    'objective': 'binary',\n",
    "    'metric': 'auc',\n",
    "    'verbose': 1,\n",
    "    'learning_rate': 0.05,\n",
    "    'num_leaves': 31,\n",
    "    'feature_fraction': 0.7,\n",
    "    'min_data_in_leaf': 200,\n",
    "    'bagging_fraction': 0.8,\n",
    "    'bagging_freq': 20,\n",
    "    'min_hessian': 0.01,\n",
    "    'feature_fraction_seed': 2,\n",
    "    'bagging_seed': 3,\n",
    "    \"seed\": random_state\n",
    "}\n",
    "\n",
    "skf = StratifiedKFold(n_splits=5, shuffle=True, random_state=random_state)\n",
    "oof = train_x[[ 'target']]\n",
    "oof['predict'] = 0\n",
    "val_aucs = []\n"
   ]
  },
  {
   "cell_type": "code",
   "execution_count": 19,
   "metadata": {
    "ExecuteTime": {
     "end_time": "2020-07-27T07:16:26.358935Z",
     "start_time": "2020-07-27T07:16:17.873978Z"
    }
   },
   "outputs": [
    {
     "name": "stdout",
     "output_type": "stream",
     "text": [
      "Training until validation scores don't improve for 100 rounds\n",
      "[50]\tvalid_0's auc: 0.877037\n",
      "[100]\tvalid_0's auc: 0.892203\n",
      "[150]\tvalid_0's auc: 0.898963\n",
      "[200]\tvalid_0's auc: 0.900977\n",
      "[250]\tvalid_0's auc: 0.902666\n",
      "[300]\tvalid_0's auc: 0.90301\n",
      "[350]\tvalid_0's auc: 0.904583\n",
      "[400]\tvalid_0's auc: 0.904116\n",
      "[450]\tvalid_0's auc: 0.904721\n",
      "[500]\tvalid_0's auc: 0.904897\n",
      "[550]\tvalid_0's auc: 0.90408\n",
      "Early stopping, best iteration is:\n",
      "[487]\tvalid_0's auc: 0.905101\n",
      "Training until validation scores don't improve for 100 rounds\n",
      "[50]\tvalid_0's auc: 0.881229\n",
      "[100]\tvalid_0's auc: 0.892194\n",
      "[150]\tvalid_0's auc: 0.896231\n",
      "[200]\tvalid_0's auc: 0.900021\n",
      "[250]\tvalid_0's auc: 0.901662\n",
      "[300]\tvalid_0's auc: 0.90272\n",
      "[350]\tvalid_0's auc: 0.903501\n",
      "[400]\tvalid_0's auc: 0.903002\n",
      "[450]\tvalid_0's auc: 0.90287\n",
      "Early stopping, best iteration is:\n",
      "[360]\tvalid_0's auc: 0.903858\n",
      "Training until validation scores don't improve for 100 rounds\n",
      "[50]\tvalid_0's auc: 0.872273\n",
      "[100]\tvalid_0's auc: 0.88553\n",
      "[150]\tvalid_0's auc: 0.892173\n",
      "[200]\tvalid_0's auc: 0.892615\n",
      "[250]\tvalid_0's auc: 0.894546\n",
      "[300]\tvalid_0's auc: 0.89415\n",
      "[350]\tvalid_0's auc: 0.894988\n",
      "[400]\tvalid_0's auc: 0.895521\n",
      "[450]\tvalid_0's auc: 0.895311\n",
      "Early stopping, best iteration is:\n",
      "[382]\tvalid_0's auc: 0.896021\n",
      "Training until validation scores don't improve for 100 rounds\n",
      "[50]\tvalid_0's auc: 0.871991\n",
      "[100]\tvalid_0's auc: 0.885915\n",
      "[150]\tvalid_0's auc: 0.892025\n",
      "[200]\tvalid_0's auc: 0.894572\n",
      "[250]\tvalid_0's auc: 0.897289\n",
      "[300]\tvalid_0's auc: 0.898432\n",
      "[350]\tvalid_0's auc: 0.898938\n",
      "[400]\tvalid_0's auc: 0.899268\n",
      "[450]\tvalid_0's auc: 0.900214\n",
      "[500]\tvalid_0's auc: 0.900868\n",
      "[550]\tvalid_0's auc: 0.90079\n",
      "[600]\tvalid_0's auc: 0.900403\n",
      "Early stopping, best iteration is:\n",
      "[528]\tvalid_0's auc: 0.90122\n",
      "Training until validation scores don't improve for 100 rounds\n",
      "[50]\tvalid_0's auc: 0.856882\n",
      "[100]\tvalid_0's auc: 0.872494\n",
      "[150]\tvalid_0's auc: 0.878102\n",
      "[200]\tvalid_0's auc: 0.881561\n",
      "[250]\tvalid_0's auc: 0.88399\n",
      "[300]\tvalid_0's auc: 0.884572\n",
      "[350]\tvalid_0's auc: 0.884287\n",
      "Early stopping, best iteration is:\n",
      "[299]\tvalid_0's auc: 0.884726\n"
     ]
    }
   ],
   "source": [
    "for fold, (trn_idx, val_idx) in enumerate(skf.split(train_x, train_x['target'])):\n",
    "    X_train, y_train = train_x.iloc[trn_idx][features], train_x.iloc[trn_idx]['target']\n",
    "    X_valid, y_valid = train_x.iloc[val_idx][features], train_x.iloc[val_idx]['target']\n",
    "    trn_data = lgb.Dataset(X_train, label=y_train)\n",
    "    val_data = lgb.Dataset(X_valid, label=y_valid)\n",
    "    evals_result = {}\n",
    "    lgb_clf = lgb.train(lgb_params,\n",
    "                        trn_data,\n",
    "                        7500,\n",
    "                        valid_sets=[val_data],\n",
    "                        early_stopping_rounds=100,\n",
    "                        verbose_eval=50,\n",
    "                        evals_result=evals_result)\n",
    "\n",
    "    p_valid = lgb_clf.predict(X_valid[features], num_iteration=lgb_clf.best_iteration)\n",
    "\n",
    "    oof['predict'][val_idx] = p_valid\n",
    "    val_score = roc_auc_score(y_valid, p_valid)\n",
    "    val_aucs.append(val_score)"
   ]
  },
  {
   "cell_type": "code",
   "execution_count": 20,
   "metadata": {
    "ExecuteTime": {
     "end_time": "2020-07-27T07:16:45.624003Z",
     "start_time": "2020-07-27T07:16:45.613982Z"
    }
   },
   "outputs": [
    {
     "name": "stdout",
     "output_type": "stream",
     "text": [
      "Mean auc: 0.898185054, std: 0.007417031. All auc: 0.898231212.\n"
     ]
    }
   ],
   "source": [
    "mean_auc = np.mean(val_aucs)\n",
    "std_auc = np.std(val_aucs)\n",
    "all_auc = roc_auc_score(oof['target'], oof['predict'])\n",
    "print(\"Mean auc: %.9f, std: %.9f. All auc: %.9f.\" % (mean_auc, std_auc, all_auc))"
   ]
  },
  {
   "cell_type": "code",
   "execution_count": 22,
   "metadata": {
    "ExecuteTime": {
     "end_time": "2020-07-27T07:21:34.633842Z",
     "start_time": "2020-07-27T07:21:34.423844Z"
    }
   },
   "outputs": [
    {
     "data": {
      "text/plain": [
       "<matplotlib.axes._subplots.AxesSubplot at 0x1e4ef759da0>"
      ]
     },
     "execution_count": 22,
     "metadata": {},
     "output_type": "execute_result"
    },
    {
     "data": {
      "image/png": "[encoded data removed]",
      "text/plain": [
       "<Figure size 432x288 with 1 Axes>"
      ]
     },
     "metadata": {
      "needs_background": "light"
     },
     "output_type": "display_data"
    }
   ],
   "source": [
    "lgb.plot_importance(lgb_clf, max_num_features = 20)"
   ]
  },
  {
   "cell_type": "code",
   "execution_count": 26,
   "metadata": {
    "ExecuteTime": {
     "end_time": "2020-07-27T07:40:10.155223Z",
     "start_time": "2020-07-27T07:40:09.854148Z"
    }
   },
   "outputs": [
    {
     "data": {
      "text/plain": [
       "<matplotlib.axes._subplots.AxesSubplot at 0x1e4f18d15f8>"
      ]
     },
     "execution_count": 26,
     "metadata": {},
     "output_type": "execute_result"
    },
    {
     "data": {
      "image/png": "[encoded data removed]",
      "text/plain": [
       "<Figure size 432x288 with 1 Axes>"
      ]
     },
     "metadata": {
      "needs_background": "light"
     },
     "output_type": "display_data"
    }
   ],
   "source": [
    "\n",
    "# Check distribution\n",
    "oof['predict'].plot()\n",
    "\n",
    "# Store to feather\n",
    "#df_av_train[[ 'preds']].reset_index(drop=True).to_feather('adversarial_validation.ft')"
   ]
  },
  {
   "cell_type": "code",
   "execution_count": 28,
   "metadata": {
    "ExecuteTime": {
     "end_time": "2020-07-27T07:41:23.338672Z",
     "start_time": "2020-07-27T07:41:23.328630Z"
    }
   },
   "outputs": [
    {
     "data": {
      "text/plain": [
       "0.0    7500\n",
       "1.0    7292\n",
       "Name: target, dtype: int64"
      ]
     },
     "execution_count": 28,
     "metadata": {},
     "output_type": "execute_result"
    }
   ],
   "source": [
    "oof['target'].value_counts()"
   ]
  },
  {
   "cell_type": "code",
   "execution_count": 37,
   "metadata": {
    "ExecuteTime": {
     "end_time": "2020-07-27T08:18:07.478273Z",
     "start_time": "2020-07-27T08:18:07.347193Z"
    }
   },
   "outputs": [
    {
     "data": {
      "text/plain": [
       "<matplotlib.axes._subplots.AxesSubplot at 0x1e4f1a646a0>"
      ]
     },
     "execution_count": 37,
     "metadata": {},
     "output_type": "execute_result"
    },
    {
     "data": {
      "image/png": "[encoded data removed]",
      "text/plain": [
       "<Figure size 432x288 with 1 Axes>"
      ]
     },
     "metadata": {
      "needs_background": "light"
     },
     "output_type": "display_data"
    }
   ],
   "source": [
    "oof[oof['target']==1]['predict'].sort_values().reset_index(drop=True).plot()"
   ]
  },
  {
   "cell_type": "code",
   "execution_count": 38,
   "metadata": {
    "ExecuteTime": {
     "end_time": "2020-07-27T08:18:45.480895Z",
     "start_time": "2020-07-27T08:18:45.349844Z"
    }
   },
   "outputs": [
    {
     "data": {
      "text/plain": [
       "<matplotlib.axes._subplots.AxesSubplot at 0x1e4f44f1080>"
      ]
     },
     "execution_count": 38,
     "metadata": {},
     "output_type": "execute_result"
    },
    {
     "data": {
      "image/png": "[encoded data removed]",
      "text/plain": [
       "<Figure size 432x288 with 1 Axes>"
      ]
     },
     "metadata": {
      "needs_background": "light"
     },
     "output_type": "display_data"
    }
   ],
   "source": [
    "oof[oof['target']==0]['predict'].sort_values().reset_index(drop=True).plot()"
   ]
  },
  {
   "cell_type": "code",
   "execution_count": null,
   "metadata": {},
   "outputs": [],
   "source": []
  }
 ],
 "metadata": {
  "kernelspec": {
   "display_name": "Python 3",
   "language": "python",
   "name": "python3"
  },
  "language_info": {
   "codemirror_mode": {
    "name": "ipython",
    "version": 3
   },
   "file_extension": ".py",
   "mimetype": "text/x-python",
   "name": "python",
   "nbconvert_exporter": "python",
   "pygments_lexer": "ipython3",
   "version": "3.7.3"
  },
  "toc": {
   "base_numbering": 1,
   "nav_menu": {},
   "number_sections": true,
   "sideBar": true,
   "skip_h1_title": false,
   "title_cell": "Table of Contents",
   "title_sidebar": "Contents",
   "toc_cell": false,
   "toc_position": {},
   "toc_section_display": true,
   "toc_window_display": false
  },
  "varInspector": {
   "cols": {
    "lenName": 16,
    "lenType": 16,
    "lenVar": 40
   },
   "kernels_config": {
    "python": {
     "delete_cmd_postfix": "",
     "delete_cmd_prefix": "del ",
     "library": "var_list.py",
     "varRefreshCmd": "print(var_dic_list())"
    },
    "r": {
     "delete_cmd_postfix": ") ",
     "delete_cmd_prefix": "rm(",
     "library": "var_list.r",
     "varRefreshCmd": "cat(var_dic_list()) "
    }
   },
   "types_to_exclude": [
    "module",
    "function",
    "builtin_function_or_method",
    "instance",
    "_Feature"
   ],
   "window_display": false
  }
 },
 "nbformat": 4,
 "nbformat_minor": 2
}
