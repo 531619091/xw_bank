{
 "cells": [
  {
   "cell_type": "code",
   "execution_count": 1,
   "metadata": {},
   "outputs": [],
   "source": [
    "from __future__ import unicode_literals, print_function, division\n",
    "from io import open\n",
    "import unicodedata\n",
    "import string\n",
    "import re\n",
    "import random\n",
    "\n",
    "import torch\n",
    "import torch.nn as nn\n",
    "from torch import optim\n",
    "import torch.nn.functional as F\n",
    "from sklearn.preprocessing import StandardScaler\n",
    "from sklearn.metrics import accuracy_score\n",
    "import numpy as np\n",
    "import pandas as pd\n",
    "from tqdm import tqdm\n",
    "from scipy.signal import resample\n",
    "from keras.layers import *\n",
    "from keras.models import Model\n",
    "from keras.optimizers import Adam\n",
    "from keras.utils import to_categorical\n",
    "from sklearn.model_selection import StratifiedKFold\n",
    "from sklearn.metrics import accuracy_score\n",
    "from keras.callbacks import EarlyStopping, ModelCheckpoint, ReduceLROnPlateau\n",
    "from keras.backend import expand_dims\n",
    "from sklearn.preprocessing import StandardScaler\n",
    "import tensorflow as tf\n",
    "\n",
    "\n",
    "#from keras.models import Model\n",
    "#from keras.layers import Input, Dense, LSTM, multiply, concatenate, Activation, Masking, Reshape\n",
    "#from keras.layers import Conv1D, BatchNormalization, GlobalAveragePooling1D, Permute, Dropout\n",
    "\n",
    "from utils.constants import MAX_NB_VARIABLES, NB_CLASSES_LIST, MAX_TIMESTEPS_LIST\n",
    "from utils.keras_utils import train_model, evaluate_model, set_trainable\n",
    "#from utils.layer_utils import AttentionLSTM\n",
    "device = torch.device(\"cuda\" if torch.cuda.is_available() else \"cpu\")\n",
    "import matplotlib.pyplot as plt\n",
    "import seaborn as sns\n",
    "from mpl_toolkits.mplot3d import Axes3D\n",
    "import math\n",
    "\n",
    "%matplotlib inline\n",
    "%matplotlib inline"
   ]
  },
  {
   "cell_type": "code",
   "execution_count": 2,
   "metadata": {},
   "outputs": [
    {
     "name": "stderr",
     "output_type": "stream",
     "text": [
      "100%|█████████████████████████████████████████████████████████████████████████████| 7292/7292 [00:09<00:00, 750.84it/s]\n",
      "100%|█████████████████████████████████████████████████████████████████████████████| 7500/7500 [00:09<00:00, 753.34it/s]\n"
     ]
    }
   ],
   "source": [
    "def acc_combo(y, y_pred):\n",
    "    # 数值ID与行为编码的对应关系\n",
    "    mapping = {0: 'A_0', 1: 'A_1', 2: 'A_2', 3: 'A_3', \n",
    "        4: 'D_4', 5: 'A_5', 6: 'B_1',7: 'B_5', \n",
    "        8: 'B_2', 9: 'B_3', 10: 'B_0', 11: 'A_6', \n",
    "        12: 'C_1', 13: 'C_3', 14: 'C_0', 15: 'B_6', \n",
    "        16: 'C_2', 17: 'C_5', 18: 'C_6'}\n",
    "    # 将行为ID转为编码\n",
    "    code_y, code_y_pred = mapping[y], mapping[y_pred]\n",
    "    if code_y == code_y_pred: #编码完全相同得分1.0\n",
    "        return 1.0\n",
    "    elif code_y.split(\"_\")[0] == code_y_pred.split(\"_\")[0]: #编码仅字母部分相同得分1.0/7\n",
    "        return 1.0/7\n",
    "    elif code_y.split(\"_\")[1] == code_y_pred.split(\"_\")[1]: #编码仅数字部分相同得分1.0/3\n",
    "        return 1.0/3\n",
    "    else:\n",
    "        return 0.0\n",
    "\n",
    "train = pd.read_csv('sensor_train.csv')\n",
    "test = pd.read_csv('sensor_test.csv')\n",
    "#train_fly = pd.read_csv('train_fly.csv')\n",
    "#test_fly = pd.read_csv('test_fly.csv')\n",
    "sub = pd.read_csv('sub.csv')\n",
    "y = train.groupby('fragment_id')['behavior_id'].min()\n",
    "\n",
    "train['mod'] = (train.acc_x ** 2 + train.acc_y ** 2 + train.acc_z ** 2) ** .5\n",
    "train['modg'] = (train.acc_xg ** 2 + train.acc_yg ** 2 + train.acc_zg ** 2) ** .5\n",
    "train['xy'] = (train.acc_x ** 2 + train.acc_y ** 2) ** .5\n",
    "train['xy_g'] = (train.acc_xg ** 2 + train.acc_yg ** 2) ** .5\n",
    "test['mod'] = (test.acc_x ** 2 + test.acc_y ** 2 + test.acc_z ** 2) ** .5\n",
    "test['modg'] = (test.acc_xg ** 2 + test.acc_yg ** 2 + test.acc_zg ** 2) ** .5\n",
    "test['xy'] = (test.acc_x ** 2 + test.acc_y ** 2) ** .5\n",
    "test['xy_g'] = (test.acc_xg ** 2 + test.acc_yg ** 2) ** .5\n",
    "\n",
    "#origin_fea_cols = ['acc_x','acc_y','acc_z','acc_xg','acc_yg','acc_zg','mod','modg','xy','xy_g']\n",
    "#train_xyz_fea1 = get_1st_order_xyz_features(train,origin_fea_cols,main_col='fragment_id')\n",
    "#test_xyz_fea1 = get_1st_order_xyz_features(test,origin_fea_cols,main_col='fragment_id')\n",
    "\n",
    "#train = train.merge(train_xyz_fea1,how='left',on='fragment_id')\n",
    "#test = test.merge(test_xyz_fea1,how='left',on='fragment_id')\n",
    "feature_cols = [col for col in train.columns if col not in ['fragment_id','time_point','behavior_id']]\n",
    "std_scaler = StandardScaler()\n",
    "train[feature_cols] = std_scaler.fit_transform(train[feature_cols])\n",
    "test[feature_cols] = std_scaler.transform(test[feature_cols])\n",
    "\n",
    "feauture_len = len(feature_cols)\n",
    "\n",
    "x = np.zeros((7292, 60, feauture_len, 1))\n",
    "t = np.zeros((7500, 60, feauture_len, 1))\n",
    "for i in tqdm(range(7292)):\n",
    "    tmp = train[train.fragment_id == i][:60]\n",
    "    x[i,:,:, 0] = resample(tmp.drop(['fragment_id', 'time_point', 'behavior_id'],\n",
    "                                    axis=1), 60, np.array(tmp.time_point))[0]\n",
    "for i in tqdm(range(7500)):\n",
    "    tmp = test[test.fragment_id == i][:60]\n",
    "    t[i,:,:, 0] = resample(tmp.drop(['fragment_id', 'time_point'],\n",
    "                                    axis=1), 60, np.array(tmp.time_point))[0]  "
   ]
  },
  {
   "cell_type": "code",
   "execution_count": 3,
   "metadata": {},
   "outputs": [],
   "source": [
    "class Model(nn.Module):\n",
    "    def __init__(self, input_size, output_size, hidden_size, n_layers):\n",
    "        super(Model, self).__init__()\n",
    "\n",
    "        self.hidden_size = hidden_size\n",
    "        self.input_size = input_size\n",
    "        self.n_layers = n_layers\n",
    "        #self.fc0 = nn.Linear(input_size,hidden_size)\n",
    "        self.gru = nn.GRU(input_size,hidden_size,batch_first=True,bidirectional=False)\n",
    "        \n",
    "        #self.fc1 = nn.Linear(hidden_size,64)\n",
    "        #self.fc2 = nn.Linear(64,3)\n",
    "        self.fc = nn.Linear(hidden_size,output_size)\n",
    "        \n",
    "\n",
    "    \n",
    "    def forward(self,x):\n",
    "        \n",
    "        batch_size = x.size(0)\n",
    "\n",
    "        # Initializing hidden state for first input using method defined below\n",
    "        hidden,cell = self.init_hidden(batch_size)\n",
    "\n",
    "        # Passing in the input and hidden state into the model and obtaining outputs\n",
    "        output,hidden = self.gru(x,hidden)\n",
    "        \n",
    "        # Reshaping the outputs such that it can be fit into the fully connected layer\n",
    "        output = output.contiguous()[:,-1,:]\n",
    "        #[:,-1, self.hidden_size].squeeze(1)\n",
    "\n",
    "        output = self.fc(output)\n",
    "        \n",
    "        \n",
    "        return output, hidden\n",
    "    \n",
    "    def init_hidden(self, batch_size):\n",
    "        # This method generates the first hidden state of zeros which we'll use in the forward pass\n",
    "        # We'll send the tensor holding the hidden state to the device we specified earlier as well\n",
    "        hidden = torch.zeros(self.n_layers, batch_size, self.hidden_size,device=device)\n",
    "        return hidden,hidden"
   ]
  },
  {
   "cell_type": "code",
   "execution_count": 23,
   "metadata": {},
   "outputs": [],
   "source": [
    "# Instantiate the model with hyperparameters\n",
    "input_size = 10 \n",
    "output_size = 19\n",
    "model = Model(input_size=input_size, output_size=output_size, hidden_size=16, n_layers=1)\n",
    "# We'll also set the model to the device that we defined earlier (default is CPU)\n",
    "model.to(device)\n",
    "\n",
    "# Define hyperparameters\n",
    "n_epochs = 8000\n",
    "lr=0.01\n",
    "\n",
    "# Define Loss, Optimizer\n",
    "criterion = nn.CrossEntropyLoss()\n",
    "optimizer = torch.optim.Adam(model.parameters(), lr=lr)"
   ]
  },
  {
   "cell_type": "code",
   "execution_count": 5,
   "metadata": {},
   "outputs": [],
   "source": [
    "x_ = torch.tensor(x).squeeze(-1)\n",
    "y_ = torch.tensor(y)\n",
    "x_ = x_.to(device)\n",
    "y_ = y_.to(device)"
   ]
  },
  {
   "cell_type": "code",
   "execution_count": 24,
   "metadata": {},
   "outputs": [
    {
     "name": "stdout",
     "output_type": "stream",
     "text": [
      "Epoch: 10/8000............. Loss: 2.5981\n",
      "Epoch: 20/8000............. Loss: 2.1904\n",
      "Epoch: 30/8000............. Loss: 1.9910\n",
      "Epoch: 40/8000............. Loss: 1.8642\n",
      "Epoch: 50/8000............. Loss: 1.7618\n",
      "Epoch: 60/8000............. Loss: 1.6839\n",
      "Epoch: 70/8000............. Loss: 1.6248\n",
      "Epoch: 80/8000............. Loss: 1.5855\n",
      "Epoch: 90/8000............. Loss: 1.5420\n",
      "Epoch: 100/8000............. Loss: 1.5133\n",
      "Epoch: 110/8000............. Loss: 1.4808\n",
      "Epoch: 120/8000............. Loss: 1.4614\n",
      "Epoch: 130/8000............. Loss: 1.4355\n",
      "Epoch: 140/8000............. Loss: 1.4095\n",
      "Epoch: 150/8000............. Loss: 1.3986\n",
      "Epoch: 160/8000............. Loss: 1.3749\n",
      "Epoch: 170/8000............. Loss: 1.3556\n",
      "Epoch: 180/8000............. Loss: 1.3493\n",
      "Epoch: 190/8000............. Loss: 1.3232\n",
      "Epoch: 200/8000............. Loss: 1.3122\n",
      "Epoch: 210/8000............. Loss: 1.2976\n",
      "Epoch: 220/8000............. Loss: 1.2894\n",
      "Epoch: 230/8000............. Loss: 1.2784\n",
      "Epoch: 240/8000............. Loss: 1.2734\n",
      "Epoch: 250/8000............. Loss: 1.2667\n",
      "Epoch: 260/8000............. Loss: 1.2610\n",
      "Epoch: 270/8000............. Loss: 1.2423\n",
      "Epoch: 280/8000............. Loss: 1.2303\n",
      "Epoch: 290/8000............. Loss: 1.2231\n",
      "Epoch: 300/8000............. Loss: 1.2138\n",
      "Epoch: 310/8000............. Loss: 1.2208\n",
      "Epoch: 320/8000............. Loss: 1.2079\n",
      "Epoch: 330/8000............. Loss: 1.1944\n",
      "Epoch: 340/8000............. Loss: 1.1927\n",
      "Epoch: 350/8000............. Loss: 1.1777\n",
      "Epoch: 360/8000............. Loss: 1.1725\n",
      "Epoch: 370/8000............. Loss: 1.1653\n",
      "Epoch: 380/8000............. Loss: 1.1630\n",
      "Epoch: 390/8000............. Loss: 1.1691\n",
      "Epoch: 400/8000............. Loss: 1.1540\n",
      "Epoch: 410/8000............. Loss: 1.1500\n",
      "Epoch: 420/8000............. Loss: 1.1747\n",
      "Epoch: 430/8000............. Loss: 1.1579\n",
      "Epoch: 440/8000............. Loss: 1.1460\n",
      "Epoch: 450/8000............. Loss: 1.1500\n",
      "Epoch: 460/8000............. Loss: 1.1395\n",
      "Epoch: 470/8000............. Loss: 1.1386\n",
      "Epoch: 480/8000............. Loss: 1.1206\n",
      "Epoch: 490/8000............. Loss: 1.1112\n",
      "Epoch: 500/8000............. Loss: 1.1093\n",
      "Epoch: 510/8000............. Loss: 1.1037\n",
      "Epoch: 520/8000............. Loss: 1.0985\n",
      "Epoch: 530/8000............. Loss: 1.0989\n",
      "Epoch: 540/8000............. Loss: 1.0980\n",
      "Epoch: 550/8000............. Loss: 1.1002\n",
      "Epoch: 560/8000............. Loss: 1.0907\n",
      "Epoch: 570/8000............. Loss: 1.0998\n",
      "Epoch: 580/8000............. Loss: 1.1818\n",
      "Epoch: 590/8000............. Loss: 1.1758\n",
      "Epoch: 600/8000............. Loss: 1.1694\n",
      "Epoch: 610/8000............. Loss: 1.1464\n",
      "Epoch: 620/8000............. Loss: 1.1108\n",
      "Epoch: 630/8000............. Loss: 1.1108\n",
      "Epoch: 640/8000............. Loss: 1.0938\n",
      "Epoch: 650/8000............. Loss: 1.0902\n",
      "Epoch: 660/8000............. Loss: 1.0805\n",
      "Epoch: 670/8000............. Loss: 1.0695\n",
      "Epoch: 680/8000............. Loss: 1.0665\n",
      "Epoch: 690/8000............. Loss: 1.0674\n",
      "Epoch: 700/8000............. Loss: 1.0633\n",
      "Epoch: 710/8000............. Loss: 1.0566\n",
      "Epoch: 720/8000............. Loss: 1.0500\n",
      "Epoch: 730/8000............. Loss: 1.2344\n",
      "Epoch: 740/8000............. Loss: 1.2107\n",
      "Epoch: 750/8000............. Loss: 1.1706\n",
      "Epoch: 760/8000............. Loss: 1.1224\n",
      "Epoch: 770/8000............. Loss: 1.0819\n",
      "Epoch: 780/8000............. Loss: 1.0639\n",
      "Epoch: 790/8000............. Loss: 1.0551\n",
      "Epoch: 800/8000............. Loss: 1.1750\n",
      "Epoch: 810/8000............. Loss: 1.1059\n",
      "Epoch: 820/8000............. Loss: 1.0678\n",
      "Epoch: 830/8000............. Loss: 1.0724\n",
      "Epoch: 840/8000............. Loss: 1.0470\n",
      "Epoch: 850/8000............. Loss: 1.0492\n",
      "Epoch: 860/8000............. Loss: 1.1785\n",
      "Epoch: 870/8000............. Loss: 1.2686\n",
      "Epoch: 880/8000............. Loss: 1.2163\n",
      "Epoch: 890/8000............. Loss: 1.1688\n",
      "Epoch: 900/8000............. Loss: 1.1374\n",
      "Epoch: 910/8000............. Loss: 1.1208\n",
      "Epoch: 920/8000............. Loss: 1.1124\n",
      "Epoch: 930/8000............. Loss: 1.0918\n",
      "Epoch: 940/8000............. Loss: 1.0858\n",
      "Epoch: 950/8000............. Loss: 1.0768\n",
      "Epoch: 960/8000............. Loss: 1.0713\n",
      "Epoch: 970/8000............. Loss: 1.0620\n",
      "Epoch: 980/8000............. Loss: 1.1559\n",
      "Epoch: 990/8000............. Loss: 1.1527\n",
      "Epoch: 1000/8000............. Loss: 1.1812\n",
      "Epoch: 1010/8000............. Loss: 1.1479\n",
      "Epoch: 1020/8000............. Loss: 1.0955\n",
      "Epoch: 1030/8000............. Loss: 1.0781\n",
      "Epoch: 1040/8000............. Loss: 1.0806\n",
      "Epoch: 1050/8000............. Loss: 1.0627\n",
      "Epoch: 1060/8000............. Loss: 1.0434\n",
      "Epoch: 1070/8000............. Loss: 1.0387\n",
      "Epoch: 1080/8000............. Loss: 1.0248\n",
      "Epoch: 1090/8000............. Loss: 1.0269\n",
      "Epoch: 1100/8000............. Loss: 1.0260\n",
      "Epoch: 1110/8000............. Loss: 1.0484\n",
      "Epoch: 1120/8000............. Loss: 1.0272\n",
      "Epoch: 1130/8000............. Loss: 1.0183\n",
      "Epoch: 1140/8000............. Loss: 1.0028\n",
      "Epoch: 1150/8000............. Loss: 0.9981\n",
      "Epoch: 1160/8000............. Loss: 0.9964\n",
      "Epoch: 1170/8000............. Loss: 0.9882\n",
      "Epoch: 1180/8000............. Loss: 0.9886\n",
      "Epoch: 1190/8000............. Loss: 0.9849\n",
      "Epoch: 1200/8000............. Loss: 0.9902\n",
      "Epoch: 1210/8000............. Loss: 0.9762\n",
      "Epoch: 1220/8000............. Loss: 0.9757\n",
      "Epoch: 1230/8000............. Loss: 0.9813\n",
      "Epoch: 1240/8000............. Loss: 0.9873\n",
      "Epoch: 1250/8000............. Loss: 0.9817\n",
      "Epoch: 1260/8000............. Loss: 0.9916\n",
      "Epoch: 1270/8000............. Loss: 0.9829\n",
      "Epoch: 1280/8000............. Loss: 0.9781\n",
      "Epoch: 1290/8000............. Loss: 0.9671\n",
      "Epoch: 1300/8000............. Loss: 0.9683\n",
      "Epoch: 1310/8000............. Loss: 1.0823\n",
      "Epoch: 1320/8000............. Loss: 1.0370\n",
      "Epoch: 1330/8000............. Loss: 1.0072\n",
      "Epoch: 1340/8000............. Loss: 1.0097\n",
      "Epoch: 1350/8000............. Loss: 0.9836\n",
      "Epoch: 1360/8000............. Loss: 0.9691\n",
      "Epoch: 1370/8000............. Loss: 0.9594\n",
      "Epoch: 1380/8000............. Loss: 0.9535\n",
      "Epoch: 1390/8000............. Loss: 0.9618\n",
      "Epoch: 1400/8000............. Loss: 1.0575\n",
      "Epoch: 1410/8000............. Loss: 1.0483\n",
      "Epoch: 1420/8000............. Loss: 0.9951\n",
      "Epoch: 1430/8000............. Loss: 0.9777\n",
      "Epoch: 1440/8000............. Loss: 0.9592\n",
      "Epoch: 1450/8000............. Loss: 0.9528\n",
      "Epoch: 1460/8000............. Loss: 0.9712\n",
      "Epoch: 1470/8000............. Loss: 0.9611\n",
      "Epoch: 1480/8000............. Loss: 0.9573\n",
      "Epoch: 1490/8000............. Loss: 0.9474\n",
      "Epoch: 1500/8000............. Loss: 0.9402\n",
      "Epoch: 1510/8000............. Loss: 0.9377\n",
      "Epoch: 1520/8000............. Loss: 0.9293\n",
      "Epoch: 1530/8000............. Loss: 0.9234\n",
      "Epoch: 1540/8000............. Loss: 0.9327\n",
      "Epoch: 1550/8000............. Loss: 0.9539\n",
      "Epoch: 1560/8000............. Loss: 1.6014\n",
      "Epoch: 1570/8000............. Loss: 1.4325\n",
      "Epoch: 1580/8000............. Loss: 1.3194\n",
      "Epoch: 1590/8000............. Loss: 1.2870\n",
      "Epoch: 1600/8000............. Loss: 1.2639\n",
      "Epoch: 1610/8000............. Loss: 1.2126\n",
      "Epoch: 1620/8000............. Loss: 1.1745\n",
      "Epoch: 1630/8000............. Loss: 1.1425\n",
      "Epoch: 1640/8000............. Loss: 1.1260\n",
      "Epoch: 1650/8000............. Loss: 1.1109\n",
      "Epoch: 1660/8000............. Loss: 1.0959\n",
      "Epoch: 1670/8000............. Loss: 1.0883\n",
      "Epoch: 1680/8000............. Loss: 1.0808\n",
      "Epoch: 1690/8000............. Loss: 1.0747\n",
      "Epoch: 1700/8000............. Loss: 1.0653\n",
      "Epoch: 1710/8000............. Loss: 1.0571\n",
      "Epoch: 1720/8000............. Loss: 1.0494\n",
      "Epoch: 1730/8000............. Loss: 1.0444\n",
      "Epoch: 1740/8000............. Loss: 1.0408\n",
      "Epoch: 1750/8000............. Loss: 1.0457\n",
      "Epoch: 1760/8000............. Loss: 1.0376\n",
      "Epoch: 1770/8000............. Loss: 1.0342\n",
      "Epoch: 1780/8000............. Loss: 1.0256\n",
      "Epoch: 1790/8000............. Loss: 1.0190\n",
      "Epoch: 1800/8000............. Loss: 1.0146\n",
      "Epoch: 1810/8000............. Loss: 1.0082\n",
      "Epoch: 1820/8000............. Loss: 1.0049\n",
      "Epoch: 1830/8000............. Loss: 1.0021\n",
      "Epoch: 1840/8000............. Loss: 0.9983\n",
      "Epoch: 1850/8000............. Loss: 0.9951\n",
      "Epoch: 1860/8000............. Loss: 0.9939\n",
      "Epoch: 1870/8000............. Loss: 0.9923\n",
      "Epoch: 1880/8000............. Loss: 0.9864\n",
      "Epoch: 1890/8000............. Loss: 0.9845\n",
      "Epoch: 1900/8000............. Loss: 0.9837\n",
      "Epoch: 1910/8000............. Loss: 0.9811\n",
      "Epoch: 1920/8000............. Loss: 0.9989\n",
      "Epoch: 1930/8000............. Loss: 0.9841\n",
      "Epoch: 1940/8000............. Loss: 0.9885\n"
     ]
    },
    {
     "name": "stdout",
     "output_type": "stream",
     "text": [
      "Epoch: 1950/8000............. Loss: 1.2217\n",
      "Epoch: 1960/8000............. Loss: 1.1582\n",
      "Epoch: 1970/8000............. Loss: 1.0791\n",
      "Epoch: 1980/8000............. Loss: 1.0935\n",
      "Epoch: 1990/8000............. Loss: 1.0513\n",
      "Epoch: 2000/8000............. Loss: 1.0249\n",
      "Epoch: 2010/8000............. Loss: 1.0104\n",
      "Epoch: 2020/8000............. Loss: 0.9960\n",
      "Epoch: 2030/8000............. Loss: 0.9939\n",
      "Epoch: 2040/8000............. Loss: 1.0031\n",
      "Epoch: 2050/8000............. Loss: 0.9906\n",
      "Epoch: 2060/8000............. Loss: 0.9807\n",
      "Epoch: 2070/8000............. Loss: 0.9911\n",
      "Epoch: 2080/8000............. Loss: 1.1465\n",
      "Epoch: 2090/8000............. Loss: 1.0850\n",
      "Epoch: 2100/8000............. Loss: 1.0437\n",
      "Epoch: 2110/8000............. Loss: 1.0142\n",
      "Epoch: 2120/8000............. Loss: 0.9975\n",
      "Epoch: 2130/8000............. Loss: 0.9881\n",
      "Epoch: 2140/8000............. Loss: 0.9825\n",
      "Epoch: 2150/8000............. Loss: 0.9777\n",
      "Epoch: 2160/8000............. Loss: 1.0113\n",
      "Epoch: 2170/8000............. Loss: 1.0573\n",
      "Epoch: 2180/8000............. Loss: 1.0103\n",
      "Epoch: 2190/8000............. Loss: 0.9894\n",
      "Epoch: 2200/8000............. Loss: 0.9745\n",
      "Epoch: 2210/8000............. Loss: 0.9683\n",
      "Epoch: 2220/8000............. Loss: 0.9614\n",
      "Epoch: 2230/8000............. Loss: 0.9569\n",
      "Epoch: 2240/8000............. Loss: 0.9651\n",
      "Epoch: 2250/8000............. Loss: 0.9594\n",
      "Epoch: 2260/8000............. Loss: 1.0166\n",
      "Epoch: 2270/8000............. Loss: 0.9859\n",
      "Epoch: 2280/8000............. Loss: 0.9680\n",
      "Epoch: 2290/8000............. Loss: 0.9680\n",
      "Epoch: 2300/8000............. Loss: 0.9551\n",
      "Epoch: 2310/8000............. Loss: 0.9447\n",
      "Epoch: 2320/8000............. Loss: 0.9387\n",
      "Epoch: 2330/8000............. Loss: 0.9349\n",
      "Epoch: 2340/8000............. Loss: 0.9297\n",
      "Epoch: 2350/8000............. Loss: 0.9342\n",
      "Epoch: 2360/8000............. Loss: 0.9430\n",
      "Epoch: 2370/8000............. Loss: 0.9420\n",
      "Epoch: 2380/8000............. Loss: 0.9492\n",
      "Epoch: 2390/8000............. Loss: 0.9468\n",
      "Epoch: 2400/8000............. Loss: 0.9464\n",
      "Epoch: 2410/8000............. Loss: 0.9302\n",
      "Epoch: 2420/8000............. Loss: 0.9295\n",
      "Epoch: 2430/8000............. Loss: 0.9984\n",
      "Epoch: 2440/8000............. Loss: 0.9468\n",
      "Epoch: 2450/8000............. Loss: 0.9282\n",
      "Epoch: 2460/8000............. Loss: 0.9199\n",
      "Epoch: 2470/8000............. Loss: 0.9127\n",
      "Epoch: 2480/8000............. Loss: 0.9110\n",
      "Epoch: 2490/8000............. Loss: 0.9068\n",
      "Epoch: 2500/8000............. Loss: 0.9074\n",
      "Epoch: 2510/8000............. Loss: 0.9111\n",
      "Epoch: 2520/8000............. Loss: 0.9202\n",
      "Epoch: 2530/8000............. Loss: 0.9521\n",
      "Epoch: 2540/8000............. Loss: 0.9336\n",
      "Epoch: 2550/8000............. Loss: 0.9263\n",
      "Epoch: 2560/8000............. Loss: 0.9115\n",
      "Epoch: 2570/8000............. Loss: 0.9182\n",
      "Epoch: 2580/8000............. Loss: 0.9060\n",
      "Epoch: 2590/8000............. Loss: 1.0691\n",
      "Epoch: 2600/8000............. Loss: 1.1472\n",
      "Epoch: 2610/8000............. Loss: 1.0760\n",
      "Epoch: 2620/8000............. Loss: 1.0203\n",
      "Epoch: 2630/8000............. Loss: 0.9892\n",
      "Epoch: 2640/8000............. Loss: 0.9647\n",
      "Epoch: 2650/8000............. Loss: 0.9520\n",
      "Epoch: 2660/8000............. Loss: 0.9497\n",
      "Epoch: 2670/8000............. Loss: 0.9321\n",
      "Epoch: 2680/8000............. Loss: 0.9186\n",
      "Epoch: 2690/8000............. Loss: 0.9078\n",
      "Epoch: 2700/8000............. Loss: 0.9033\n",
      "Epoch: 2710/8000............. Loss: 0.8977\n",
      "Epoch: 2720/8000............. Loss: 0.8940\n",
      "Epoch: 2730/8000............. Loss: 0.8894\n",
      "Epoch: 2740/8000............. Loss: 0.9021\n",
      "Epoch: 2750/8000............. Loss: 0.9080\n",
      "Epoch: 2760/8000............. Loss: 0.9094\n",
      "Epoch: 2770/8000............. Loss: 0.9218\n",
      "Epoch: 2780/8000............. Loss: 0.9054\n",
      "Epoch: 2790/8000............. Loss: 0.8947\n",
      "Epoch: 2800/8000............. Loss: 0.8926\n",
      "Epoch: 2810/8000............. Loss: 1.2003\n",
      "Epoch: 2820/8000............. Loss: 1.1498\n",
      "Epoch: 2830/8000............. Loss: 1.0916\n",
      "Epoch: 2840/8000............. Loss: 1.0259\n",
      "Epoch: 2850/8000............. Loss: 0.9996\n",
      "Epoch: 2860/8000............. Loss: 1.0383\n",
      "Epoch: 2870/8000............. Loss: 1.0097\n",
      "Epoch: 2880/8000............. Loss: 0.9948\n",
      "Epoch: 2890/8000............. Loss: 1.0349\n",
      "Epoch: 2900/8000............. Loss: 0.9899\n",
      "Epoch: 2910/8000............. Loss: 0.9703\n",
      "Epoch: 2920/8000............. Loss: 0.9448\n",
      "Epoch: 2930/8000............. Loss: 0.9299\n",
      "Epoch: 2940/8000............. Loss: 0.9218\n",
      "Epoch: 2950/8000............. Loss: 0.9128\n",
      "Epoch: 2960/8000............. Loss: 0.9096\n",
      "Epoch: 2970/8000............. Loss: 0.9018\n",
      "Epoch: 2980/8000............. Loss: 0.9008\n",
      "Epoch: 2990/8000............. Loss: 0.8973\n",
      "Epoch: 3000/8000............. Loss: 0.8904\n",
      "Epoch: 3010/8000............. Loss: 0.8921\n",
      "Epoch: 3020/8000............. Loss: 0.8922\n",
      "Epoch: 3030/8000............. Loss: 0.8823\n",
      "Epoch: 3040/8000............. Loss: 0.8837\n",
      "Epoch: 3050/8000............. Loss: 0.8786\n",
      "Epoch: 3060/8000............. Loss: 0.8754\n",
      "Epoch: 3070/8000............. Loss: 0.8842\n",
      "Epoch: 3080/8000............. Loss: 0.8771\n",
      "Epoch: 3090/8000............. Loss: 0.8936\n",
      "Epoch: 3100/8000............. Loss: 0.8897\n",
      "Epoch: 3110/8000............. Loss: 0.8767\n",
      "Epoch: 3120/8000............. Loss: 0.8772\n",
      "Epoch: 3130/8000............. Loss: 0.8720\n",
      "Epoch: 3140/8000............. Loss: 0.8659\n",
      "Epoch: 3150/8000............. Loss: 0.8842\n",
      "Epoch: 3160/8000............. Loss: 0.9115\n",
      "Epoch: 3170/8000............. Loss: 0.9027\n",
      "Epoch: 3180/8000............. Loss: 0.9154\n",
      "Epoch: 3190/8000............. Loss: 0.8943\n",
      "Epoch: 3200/8000............. Loss: 0.8740\n",
      "Epoch: 3210/8000............. Loss: 0.8663\n",
      "Epoch: 3220/8000............. Loss: 0.8710\n",
      "Epoch: 3230/8000............. Loss: 0.8649\n",
      "Epoch: 3240/8000............. Loss: 0.8567\n",
      "Epoch: 3250/8000............. Loss: 0.8632\n",
      "Epoch: 3260/8000............. Loss: 0.8606\n",
      "Epoch: 3270/8000............. Loss: 0.8606\n",
      "Epoch: 3280/8000............. Loss: 0.8582\n",
      "Epoch: 3290/8000............. Loss: 0.8556\n",
      "Epoch: 3300/8000............. Loss: 0.8503\n",
      "Epoch: 3310/8000............. Loss: 0.8558\n",
      "Epoch: 3320/8000............. Loss: 0.8506\n",
      "Epoch: 3330/8000............. Loss: 0.8625\n",
      "Epoch: 3340/8000............. Loss: 0.8556\n",
      "Epoch: 3350/8000............. Loss: 0.8727\n",
      "Epoch: 3360/8000............. Loss: 0.9055\n",
      "Epoch: 3370/8000............. Loss: 0.8774\n",
      "Epoch: 3380/8000............. Loss: 0.8684\n",
      "Epoch: 3390/8000............. Loss: 0.8997\n",
      "Epoch: 3400/8000............. Loss: 0.9190\n",
      "Epoch: 3410/8000............. Loss: 0.8994\n",
      "Epoch: 3420/8000............. Loss: 0.8689\n",
      "Epoch: 3430/8000............. Loss: 0.8757\n",
      "Epoch: 3440/8000............. Loss: 0.8832\n",
      "Epoch: 3450/8000............. Loss: 0.8644\n",
      "Epoch: 3460/8000............. Loss: 0.8584\n",
      "Epoch: 3470/8000............. Loss: 0.8567\n",
      "Epoch: 3480/8000............. Loss: 0.8539\n",
      "Epoch: 3490/8000............. Loss: 1.3364\n",
      "Epoch: 3500/8000............. Loss: 1.1653\n",
      "Epoch: 3510/8000............. Loss: 1.0624\n",
      "Epoch: 3520/8000............. Loss: 1.0000\n",
      "Epoch: 3530/8000............. Loss: 0.9610\n",
      "Epoch: 3540/8000............. Loss: 0.9313\n",
      "Epoch: 3550/8000............. Loss: 0.9204\n",
      "Epoch: 3560/8000............. Loss: 0.9171\n",
      "Epoch: 3570/8000............. Loss: 0.8975\n",
      "Epoch: 3580/8000............. Loss: 1.0415\n",
      "Epoch: 3590/8000............. Loss: 1.0023\n",
      "Epoch: 3600/8000............. Loss: 0.9596\n",
      "Epoch: 3610/8000............. Loss: 1.1376\n",
      "Epoch: 3620/8000............. Loss: 0.9942\n",
      "Epoch: 3630/8000............. Loss: 0.9358\n",
      "Epoch: 3640/8000............. Loss: 0.9095\n",
      "Epoch: 3650/8000............. Loss: 0.8870\n",
      "Epoch: 3660/8000............. Loss: 0.8727\n",
      "Epoch: 3670/8000............. Loss: 0.8648\n",
      "Epoch: 3680/8000............. Loss: 0.8660\n",
      "Epoch: 3690/8000............. Loss: 0.8719\n",
      "Epoch: 3700/8000............. Loss: 0.8541\n",
      "Epoch: 3710/8000............. Loss: 0.8514\n",
      "Epoch: 3720/8000............. Loss: 0.8445\n",
      "Epoch: 3730/8000............. Loss: 0.8425\n",
      "Epoch: 3740/8000............. Loss: 0.8503\n",
      "Epoch: 3750/8000............. Loss: 0.8657\n",
      "Epoch: 3760/8000............. Loss: 0.8506\n",
      "Epoch: 3770/8000............. Loss: 0.8554\n",
      "Epoch: 3780/8000............. Loss: 0.8451\n",
      "Epoch: 3790/8000............. Loss: 0.8543\n",
      "Epoch: 3800/8000............. Loss: 0.8546\n",
      "Epoch: 3810/8000............. Loss: 0.8467\n",
      "Epoch: 3820/8000............. Loss: 0.8355\n",
      "Epoch: 3830/8000............. Loss: 0.8523\n",
      "Epoch: 3840/8000............. Loss: 0.8555\n",
      "Epoch: 3850/8000............. Loss: 0.8518\n"
     ]
    },
    {
     "name": "stdout",
     "output_type": "stream",
     "text": [
      "Epoch: 3860/8000............. Loss: 0.8599\n",
      "Epoch: 3870/8000............. Loss: 0.8483\n",
      "Epoch: 3880/8000............. Loss: 0.8405\n",
      "Epoch: 3890/8000............. Loss: 0.8465\n",
      "Epoch: 3900/8000............. Loss: 1.0489\n",
      "Epoch: 3910/8000............. Loss: 1.0308\n",
      "Epoch: 3920/8000............. Loss: 0.9611\n",
      "Epoch: 3930/8000............. Loss: 0.9373\n",
      "Epoch: 3940/8000............. Loss: 0.9419\n",
      "Epoch: 3950/8000............. Loss: 0.9386\n",
      "Epoch: 3960/8000............. Loss: 0.9101\n",
      "Epoch: 3970/8000............. Loss: 0.8837\n",
      "Epoch: 3980/8000............. Loss: 0.8729\n",
      "Epoch: 3990/8000............. Loss: 0.9069\n",
      "Epoch: 4000/8000............. Loss: 0.8965\n",
      "Epoch: 4010/8000............. Loss: 0.8717\n",
      "Epoch: 4020/8000............. Loss: 0.8995\n",
      "Epoch: 4030/8000............. Loss: 1.0099\n",
      "Epoch: 4040/8000............. Loss: 0.9466\n",
      "Epoch: 4050/8000............. Loss: 0.9236\n",
      "Epoch: 4060/8000............. Loss: 0.9036\n",
      "Epoch: 4070/8000............. Loss: 0.9003\n",
      "Epoch: 4080/8000............. Loss: 0.8883\n",
      "Epoch: 4090/8000............. Loss: 0.9366\n",
      "Epoch: 4100/8000............. Loss: 0.9508\n",
      "Epoch: 4110/8000............. Loss: 0.9080\n",
      "Epoch: 4120/8000............. Loss: 0.8814\n",
      "Epoch: 4130/8000............. Loss: 0.8731\n",
      "Epoch: 4140/8000............. Loss: 0.8888\n",
      "Epoch: 4150/8000............. Loss: 0.9062\n",
      "Epoch: 4160/8000............. Loss: 0.8797\n",
      "Epoch: 4170/8000............. Loss: 0.8830\n",
      "Epoch: 4180/8000............. Loss: 0.8696\n",
      "Epoch: 4190/8000............. Loss: 0.8561\n",
      "Epoch: 4200/8000............. Loss: 0.8509\n",
      "Epoch: 4210/8000............. Loss: 0.8460\n",
      "Epoch: 4220/8000............. Loss: 0.8416\n",
      "Epoch: 4230/8000............. Loss: 0.8449\n",
      "Epoch: 4240/8000............. Loss: 0.8420\n",
      "Epoch: 4250/8000............. Loss: 0.8464\n",
      "Epoch: 4260/8000............. Loss: 0.9737\n",
      "Epoch: 4270/8000............. Loss: 1.1938\n",
      "Epoch: 4280/8000............. Loss: 1.1186\n",
      "Epoch: 4290/8000............. Loss: 1.0297\n",
      "Epoch: 4300/8000............. Loss: 0.9682\n",
      "Epoch: 4310/8000............. Loss: 0.9378\n",
      "Epoch: 4320/8000............. Loss: 0.9182\n",
      "Epoch: 4330/8000............. Loss: 0.9039\n",
      "Epoch: 4340/8000............. Loss: 0.9021\n",
      "Epoch: 4350/8000............. Loss: 0.9134\n",
      "Epoch: 4360/8000............. Loss: 0.8926\n",
      "Epoch: 4370/8000............. Loss: 0.9490\n",
      "Epoch: 4380/8000............. Loss: 0.9565\n",
      "Epoch: 4390/8000............. Loss: 0.9488\n",
      "Epoch: 4400/8000............. Loss: 0.9526\n",
      "Epoch: 4410/8000............. Loss: 0.9333\n",
      "Epoch: 4420/8000............. Loss: 0.9340\n",
      "Epoch: 4430/8000............. Loss: 1.3388\n",
      "Epoch: 4440/8000............. Loss: 2.4850\n",
      "Epoch: 4450/8000............. Loss: 2.1633\n",
      "Epoch: 4460/8000............. Loss: 1.9606\n",
      "Epoch: 4470/8000............. Loss: 1.7339\n",
      "Epoch: 4480/8000............. Loss: 1.5895\n",
      "Epoch: 4490/8000............. Loss: 1.5236\n",
      "Epoch: 4500/8000............. Loss: 1.4649\n",
      "Epoch: 4510/8000............. Loss: 1.4281\n",
      "Epoch: 4520/8000............. Loss: 1.4106\n",
      "Epoch: 4530/8000............. Loss: 1.3822\n",
      "Epoch: 4540/8000............. Loss: 1.3582\n",
      "Epoch: 4550/8000............. Loss: 1.3457\n",
      "Epoch: 4560/8000............. Loss: 1.3319\n",
      "Epoch: 4570/8000............. Loss: 1.3157\n",
      "Epoch: 4580/8000............. Loss: 1.3025\n",
      "Epoch: 4590/8000............. Loss: 1.2917\n",
      "Epoch: 4600/8000............. Loss: 1.2822\n",
      "Epoch: 4610/8000............. Loss: 1.3055\n",
      "Epoch: 4620/8000............. Loss: 1.2872\n",
      "Epoch: 4630/8000............. Loss: 1.3471\n",
      "Epoch: 4640/8000............. Loss: 1.3155\n",
      "Epoch: 4650/8000............. Loss: 1.2761\n",
      "Epoch: 4660/8000............. Loss: 1.2588\n",
      "Epoch: 4670/8000............. Loss: 1.2483\n",
      "Epoch: 4680/8000............. Loss: 1.2365\n",
      "Epoch: 4690/8000............. Loss: 1.2279\n",
      "Epoch: 4700/8000............. Loss: 1.2241\n",
      "Epoch: 4710/8000............. Loss: 1.2138\n",
      "Epoch: 4720/8000............. Loss: 1.2069\n",
      "Epoch: 4730/8000............. Loss: 1.2003\n",
      "Epoch: 4740/8000............. Loss: 1.1916\n",
      "Epoch: 4750/8000............. Loss: 1.1859\n",
      "Epoch: 4760/8000............. Loss: 1.1812\n",
      "Epoch: 4770/8000............. Loss: 1.1751\n",
      "Epoch: 4780/8000............. Loss: 1.1703\n",
      "Epoch: 4790/8000............. Loss: 1.1652\n",
      "Epoch: 4800/8000............. Loss: 1.1613\n",
      "Epoch: 4810/8000............. Loss: 1.1639\n",
      "Epoch: 4820/8000............. Loss: 1.1578\n",
      "Epoch: 4830/8000............. Loss: 1.1530\n",
      "Epoch: 4840/8000............. Loss: 1.1581\n",
      "Epoch: 4850/8000............. Loss: 1.1541\n",
      "Epoch: 4860/8000............. Loss: 1.1458\n",
      "Epoch: 4870/8000............. Loss: 1.1431\n",
      "Epoch: 4880/8000............. Loss: 1.1332\n",
      "Epoch: 4890/8000............. Loss: 1.1327\n",
      "Epoch: 4900/8000............. Loss: 1.1260\n",
      "Epoch: 4910/8000............. Loss: 1.1231\n",
      "Epoch: 4920/8000............. Loss: 1.1176\n",
      "Epoch: 4930/8000............. Loss: 1.1160\n",
      "Epoch: 4940/8000............. Loss: 1.1121\n",
      "Epoch: 4950/8000............. Loss: 1.1101\n",
      "Epoch: 4960/8000............. Loss: 1.1054\n",
      "Epoch: 4970/8000............. Loss: 1.1027\n",
      "Epoch: 4980/8000............. Loss: 1.0994\n",
      "Epoch: 4990/8000............. Loss: 1.0975\n",
      "Epoch: 5000/8000............. Loss: 1.0946\n",
      "Epoch: 5010/8000............. Loss: 1.0938\n",
      "Epoch: 5020/8000............. Loss: 1.0905\n",
      "Epoch: 5030/8000............. Loss: 1.0881\n",
      "Epoch: 5040/8000............. Loss: 1.0851\n",
      "Epoch: 5050/8000............. Loss: 1.0836\n",
      "Epoch: 5060/8000............. Loss: 1.0810\n",
      "Epoch: 5070/8000............. Loss: 1.0791\n",
      "Epoch: 5080/8000............. Loss: 1.0774\n",
      "Epoch: 5090/8000............. Loss: 1.0755\n",
      "Epoch: 5100/8000............. Loss: 1.0764\n",
      "Epoch: 5110/8000............. Loss: 1.0731\n",
      "Epoch: 5120/8000............. Loss: 1.0693\n",
      "Epoch: 5130/8000............. Loss: 1.0687\n",
      "Epoch: 5140/8000............. Loss: 1.0873\n",
      "Epoch: 5150/8000............. Loss: 1.0752\n",
      "Epoch: 5160/8000............. Loss: 1.0698\n",
      "Epoch: 5170/8000............. Loss: 1.0659\n",
      "Epoch: 5180/8000............. Loss: 1.0630\n",
      "Epoch: 5190/8000............. Loss: 1.0591\n",
      "Epoch: 5200/8000............. Loss: 1.0579\n",
      "Epoch: 5210/8000............. Loss: 1.0565\n",
      "Epoch: 5220/8000............. Loss: 1.0562\n",
      "Epoch: 5230/8000............. Loss: 1.0538\n",
      "Epoch: 5240/8000............. Loss: 1.0505\n",
      "Epoch: 5250/8000............. Loss: 1.0483\n",
      "Epoch: 5260/8000............. Loss: 1.0481\n",
      "Epoch: 5270/8000............. Loss: 1.0459\n",
      "Epoch: 5280/8000............. Loss: 1.0520\n",
      "Epoch: 5290/8000............. Loss: 1.0492\n",
      "Epoch: 5300/8000............. Loss: 1.0442\n",
      "Epoch: 5310/8000............. Loss: 1.0464\n",
      "Epoch: 5320/8000............. Loss: 1.0421\n",
      "Epoch: 5330/8000............. Loss: 1.1145\n",
      "Epoch: 5340/8000............. Loss: 1.1213\n",
      "Epoch: 5350/8000............. Loss: 1.0892\n",
      "Epoch: 5360/8000............. Loss: 1.0725\n",
      "Epoch: 5370/8000............. Loss: 1.0663\n",
      "Epoch: 5380/8000............. Loss: 1.0644\n",
      "Epoch: 5390/8000............. Loss: 1.0547\n",
      "Epoch: 5400/8000............. Loss: 1.0519\n",
      "Epoch: 5410/8000............. Loss: 1.0604\n",
      "Epoch: 5420/8000............. Loss: 1.0804\n",
      "Epoch: 5430/8000............. Loss: 1.0598\n",
      "Epoch: 5440/8000............. Loss: 1.0514\n",
      "Epoch: 5450/8000............. Loss: 1.0363\n",
      "Epoch: 5460/8000............. Loss: 1.0309\n",
      "Epoch: 5470/8000............. Loss: 1.0262\n",
      "Epoch: 5480/8000............. Loss: 1.0217\n",
      "Epoch: 5490/8000............. Loss: 1.0158\n",
      "Epoch: 5500/8000............. Loss: 1.0201\n",
      "Epoch: 5510/8000............. Loss: 1.0139\n",
      "Epoch: 5520/8000............. Loss: 1.0100\n",
      "Epoch: 5530/8000............. Loss: 1.0071\n",
      "Epoch: 5540/8000............. Loss: 1.0103\n",
      "Epoch: 5550/8000............. Loss: 1.0056\n",
      "Epoch: 5560/8000............. Loss: 1.0043\n",
      "Epoch: 5570/8000............. Loss: 1.0025\n",
      "Epoch: 5580/8000............. Loss: 0.9989\n",
      "Epoch: 5590/8000............. Loss: 1.0006\n",
      "Epoch: 5600/8000............. Loss: 0.9977\n",
      "Epoch: 5610/8000............. Loss: 0.9948\n",
      "Epoch: 5620/8000............. Loss: 0.9925\n",
      "Epoch: 5630/8000............. Loss: 0.9908\n",
      "Epoch: 5640/8000............. Loss: 0.9891\n",
      "Epoch: 5650/8000............. Loss: 0.9878\n",
      "Epoch: 5660/8000............. Loss: 0.9876\n",
      "Epoch: 5670/8000............. Loss: 0.9907\n",
      "Epoch: 5680/8000............. Loss: 0.9873\n",
      "Epoch: 5690/8000............. Loss: 0.9884\n",
      "Epoch: 5700/8000............. Loss: 0.9888\n",
      "Epoch: 5710/8000............. Loss: 0.9846\n",
      "Epoch: 5720/8000............. Loss: 0.9878\n",
      "Epoch: 5730/8000............. Loss: 0.9838\n",
      "Epoch: 5740/8000............. Loss: 0.9832\n",
      "Epoch: 5750/8000............. Loss: 0.9907\n",
      "Epoch: 5760/8000............. Loss: 0.9809\n"
     ]
    },
    {
     "name": "stdout",
     "output_type": "stream",
     "text": [
      "Epoch: 5770/8000............. Loss: 0.9797\n",
      "Epoch: 5780/8000............. Loss: 0.9752\n",
      "Epoch: 5790/8000............. Loss: 0.9772\n",
      "Epoch: 5800/8000............. Loss: 0.9774\n",
      "Epoch: 5810/8000............. Loss: 0.9773\n",
      "Epoch: 5820/8000............. Loss: 0.9771\n",
      "Epoch: 5830/8000............. Loss: 0.9701\n",
      "Epoch: 5840/8000............. Loss: 0.9680\n",
      "Epoch: 5850/8000............. Loss: 0.9728\n",
      "Epoch: 5860/8000............. Loss: 0.9670\n",
      "Epoch: 5870/8000............. Loss: 0.9645\n",
      "Epoch: 5880/8000............. Loss: 0.9657\n",
      "Epoch: 5890/8000............. Loss: 0.9629\n",
      "Epoch: 5900/8000............. Loss: 0.9640\n",
      "Epoch: 5910/8000............. Loss: 0.9732\n",
      "Epoch: 5920/8000............. Loss: 0.9670\n",
      "Epoch: 5930/8000............. Loss: 0.9803\n",
      "Epoch: 5940/8000............. Loss: 0.9741\n",
      "Epoch: 5950/8000............. Loss: 0.9670\n",
      "Epoch: 5960/8000............. Loss: 0.9689\n",
      "Epoch: 5970/8000............. Loss: 1.0536\n",
      "Epoch: 5980/8000............. Loss: 1.0290\n",
      "Epoch: 5990/8000............. Loss: 1.0083\n",
      "Epoch: 6000/8000............. Loss: 0.9947\n",
      "Epoch: 6010/8000............. Loss: 0.9843\n",
      "Epoch: 6020/8000............. Loss: 0.9862\n",
      "Epoch: 6030/8000............. Loss: 0.9763\n",
      "Epoch: 6040/8000............. Loss: 0.9725\n",
      "Epoch: 6050/8000............. Loss: 0.9875\n",
      "Epoch: 6060/8000............. Loss: 0.9774\n",
      "Epoch: 6070/8000............. Loss: 0.9692\n",
      "Epoch: 6080/8000............. Loss: 0.9652\n",
      "Epoch: 6090/8000............. Loss: 0.9650\n",
      "Epoch: 6100/8000............. Loss: 0.9607\n",
      "Epoch: 6110/8000............. Loss: 0.9571\n",
      "Epoch: 6120/8000............. Loss: 0.9552\n",
      "Epoch: 6130/8000............. Loss: 0.9526\n",
      "Epoch: 6140/8000............. Loss: 0.9517\n",
      "Epoch: 6150/8000............. Loss: 0.9493\n",
      "Epoch: 6160/8000............. Loss: 0.9494\n",
      "Epoch: 6170/8000............. Loss: 0.9697\n",
      "Epoch: 6180/8000............. Loss: 0.9584\n",
      "Epoch: 6190/8000............. Loss: 0.9591\n",
      "Epoch: 6200/8000............. Loss: 0.9696\n",
      "Epoch: 6210/8000............. Loss: 0.9886\n",
      "Epoch: 6220/8000............. Loss: 0.9742\n",
      "Epoch: 6230/8000............. Loss: 0.9594\n",
      "Epoch: 6240/8000............. Loss: 0.9593\n",
      "Epoch: 6250/8000............. Loss: 0.9474\n",
      "Epoch: 6260/8000............. Loss: 0.9593\n",
      "Epoch: 6270/8000............. Loss: 0.9552\n",
      "Epoch: 6280/8000............. Loss: 0.9482\n",
      "Epoch: 6290/8000............. Loss: 0.9411\n",
      "Epoch: 6300/8000............. Loss: 0.9390\n",
      "Epoch: 6310/8000............. Loss: 0.9358\n",
      "Epoch: 6320/8000............. Loss: 0.9328\n",
      "Epoch: 6330/8000............. Loss: 0.9315\n",
      "Epoch: 6340/8000............. Loss: 0.9316\n",
      "Epoch: 6350/8000............. Loss: 0.9321\n",
      "Epoch: 6360/8000............. Loss: 0.9307\n",
      "Epoch: 6370/8000............. Loss: 0.9299\n",
      "Epoch: 6380/8000............. Loss: 1.2213\n",
      "Epoch: 6390/8000............. Loss: 1.1285\n",
      "Epoch: 6400/8000............. Loss: 1.0551\n",
      "Epoch: 6410/8000............. Loss: 1.0263\n",
      "Epoch: 6420/8000............. Loss: 1.0085\n",
      "Epoch: 6430/8000............. Loss: 0.9841\n",
      "Epoch: 6440/8000............. Loss: 0.9729\n",
      "Epoch: 6450/8000............. Loss: 0.9636\n",
      "Epoch: 6460/8000............. Loss: 1.0563\n",
      "Epoch: 6470/8000............. Loss: 1.0775\n",
      "Epoch: 6480/8000............. Loss: 1.0403\n",
      "Epoch: 6490/8000............. Loss: 1.1134\n",
      "Epoch: 6500/8000............. Loss: 1.0336\n",
      "Epoch: 6510/8000............. Loss: 1.0024\n",
      "Epoch: 6520/8000............. Loss: 0.9877\n",
      "Epoch: 6530/8000............. Loss: 0.9783\n",
      "Epoch: 6540/8000............. Loss: 0.9664\n",
      "Epoch: 6550/8000............. Loss: 0.9549\n",
      "Epoch: 6560/8000............. Loss: 0.9490\n",
      "Epoch: 6570/8000............. Loss: 0.9442\n",
      "Epoch: 6580/8000............. Loss: 0.9402\n",
      "Epoch: 6590/8000............. Loss: 0.9385\n",
      "Epoch: 6600/8000............. Loss: 0.9411\n",
      "Epoch: 6610/8000............. Loss: 0.9455\n",
      "Epoch: 6620/8000............. Loss: 0.9367\n",
      "Epoch: 6630/8000............. Loss: 0.9390\n",
      "Epoch: 6640/8000............. Loss: 0.9358\n",
      "Epoch: 6650/8000............. Loss: 0.9315\n",
      "Epoch: 6660/8000............. Loss: 0.9259\n",
      "Epoch: 6670/8000............. Loss: 0.9322\n",
      "Epoch: 6680/8000............. Loss: 0.9249\n",
      "Epoch: 6690/8000............. Loss: 0.9199\n",
      "Epoch: 6700/8000............. Loss: 0.9300\n",
      "Epoch: 6710/8000............. Loss: 0.9262\n",
      "Epoch: 6720/8000............. Loss: 0.9223\n",
      "Epoch: 6730/8000............. Loss: 0.9183\n",
      "Epoch: 6740/8000............. Loss: 0.9157\n",
      "Epoch: 6750/8000............. Loss: 0.9188\n",
      "Epoch: 6760/8000............. Loss: 0.9141\n",
      "Epoch: 6770/8000............. Loss: 0.9280\n",
      "Epoch: 6780/8000............. Loss: 0.9244\n",
      "Epoch: 6790/8000............. Loss: 0.9363\n",
      "Epoch: 6800/8000............. Loss: 1.0409\n",
      "Epoch: 6810/8000............. Loss: 0.9804\n",
      "Epoch: 6820/8000............. Loss: 0.9721\n",
      "Epoch: 6830/8000............. Loss: 0.9377\n",
      "Epoch: 6840/8000............. Loss: 0.9262\n",
      "Epoch: 6850/8000............. Loss: 0.9221\n",
      "Epoch: 6860/8000............. Loss: 0.9353\n",
      "Epoch: 6870/8000............. Loss: 0.9173\n",
      "Epoch: 6880/8000............. Loss: 0.9149\n",
      "Epoch: 6890/8000............. Loss: 0.9064\n",
      "Epoch: 6900/8000............. Loss: 0.9043\n",
      "Epoch: 6910/8000............. Loss: 0.9046\n",
      "Epoch: 6920/8000............. Loss: 0.8992\n",
      "Epoch: 6930/8000............. Loss: 0.8974\n",
      "Epoch: 6940/8000............. Loss: 0.8954\n",
      "Epoch: 6950/8000............. Loss: 0.8971\n",
      "Epoch: 6960/8000............. Loss: 0.8977\n",
      "Epoch: 6970/8000............. Loss: 0.8974\n",
      "Epoch: 6980/8000............. Loss: 0.8996\n",
      "Epoch: 6990/8000............. Loss: 0.8938\n",
      "Epoch: 7000/8000............. Loss: 0.8930\n",
      "Epoch: 7010/8000............. Loss: 0.8901\n",
      "Epoch: 7020/8000............. Loss: 0.8923\n",
      "Epoch: 7030/8000............. Loss: 0.8967\n",
      "Epoch: 7040/8000............. Loss: 0.8934\n",
      "Epoch: 7050/8000............. Loss: 0.8893\n",
      "Epoch: 7060/8000............. Loss: 0.8918\n",
      "Epoch: 7070/8000............. Loss: 0.8868\n",
      "Epoch: 7080/8000............. Loss: 0.8826\n",
      "Epoch: 7090/8000............. Loss: 0.8849\n",
      "Epoch: 7100/8000............. Loss: 0.9314\n",
      "Epoch: 7110/8000............. Loss: 0.9121\n",
      "Epoch: 7120/8000............. Loss: 0.9266\n",
      "Epoch: 7130/8000............. Loss: 0.9077\n",
      "Epoch: 7140/8000............. Loss: 0.9180\n",
      "Epoch: 7150/8000............. Loss: 0.9007\n",
      "Epoch: 7160/8000............. Loss: 0.8983\n",
      "Epoch: 7170/8000............. Loss: 0.9193\n",
      "Epoch: 7180/8000............. Loss: 0.9032\n",
      "Epoch: 7190/8000............. Loss: 0.8947\n",
      "Epoch: 7200/8000............. Loss: 0.8828\n",
      "Epoch: 7210/8000............. Loss: 0.8839\n",
      "Epoch: 7220/8000............. Loss: 0.8812\n",
      "Epoch: 7230/8000............. Loss: 0.9259\n",
      "Epoch: 7240/8000............. Loss: 0.9168\n",
      "Epoch: 7250/8000............. Loss: 0.8970\n",
      "Epoch: 7260/8000............. Loss: 1.0495\n",
      "Epoch: 7270/8000............. Loss: 1.0701\n",
      "Epoch: 7280/8000............. Loss: 1.0300\n",
      "Epoch: 7290/8000............. Loss: 1.0005\n",
      "Epoch: 7300/8000............. Loss: 0.9855\n",
      "Epoch: 7310/8000............. Loss: 1.0418\n",
      "Epoch: 7320/8000............. Loss: 0.9970\n",
      "Epoch: 7330/8000............. Loss: 0.9669\n",
      "Epoch: 7340/8000............. Loss: 1.0267\n",
      "Epoch: 7350/8000............. Loss: 1.1445\n",
      "Epoch: 7360/8000............. Loss: 1.2305\n",
      "Epoch: 7370/8000............. Loss: 1.1644\n",
      "Epoch: 7380/8000............. Loss: 1.0829\n",
      "Epoch: 7390/8000............. Loss: 1.0405\n",
      "Epoch: 7400/8000............. Loss: 1.0176\n",
      "Epoch: 7410/8000............. Loss: 1.0053\n",
      "Epoch: 7420/8000............. Loss: 0.9965\n",
      "Epoch: 7430/8000............. Loss: 0.9873\n",
      "Epoch: 7440/8000............. Loss: 0.9806\n",
      "Epoch: 7450/8000............. Loss: 0.9766\n",
      "Epoch: 7460/8000............. Loss: 0.9757\n",
      "Epoch: 7470/8000............. Loss: 0.9741\n",
      "Epoch: 7480/8000............. Loss: 0.9733\n",
      "Epoch: 7490/8000............. Loss: 0.9684\n",
      "Epoch: 7500/8000............. Loss: 0.9626\n",
      "Epoch: 7510/8000............. Loss: 0.9586\n",
      "Epoch: 7520/8000............. Loss: 0.9657\n",
      "Epoch: 7530/8000............. Loss: 0.9728\n",
      "Epoch: 7540/8000............. Loss: 0.9584\n",
      "Epoch: 7550/8000............. Loss: 0.9513\n",
      "Epoch: 7560/8000............. Loss: 0.9474\n",
      "Epoch: 7570/8000............. Loss: 0.9479\n",
      "Epoch: 7580/8000............. Loss: 0.9645\n",
      "Epoch: 7590/8000............. Loss: 0.9546\n",
      "Epoch: 7600/8000............. Loss: 0.9517\n",
      "Epoch: 7610/8000............. Loss: 1.0032\n",
      "Epoch: 7620/8000............. Loss: 0.9875\n",
      "Epoch: 7630/8000............. Loss: 0.9842\n",
      "Epoch: 7640/8000............. Loss: 0.9594\n",
      "Epoch: 7650/8000............. Loss: 0.9530\n",
      "Epoch: 7660/8000............. Loss: 0.9579\n",
      "Epoch: 7670/8000............. Loss: 0.9603\n",
      "Epoch: 7680/8000............. Loss: 0.9450\n"
     ]
    },
    {
     "name": "stdout",
     "output_type": "stream",
     "text": [
      "Epoch: 7690/8000............. Loss: 0.9361\n",
      "Epoch: 7700/8000............. Loss: 0.9359\n",
      "Epoch: 7710/8000............. Loss: 0.9422\n",
      "Epoch: 7720/8000............. Loss: 0.9303\n",
      "Epoch: 7730/8000............. Loss: 0.9258\n",
      "Epoch: 7740/8000............. Loss: 0.9244\n",
      "Epoch: 7750/8000............. Loss: 0.9202\n",
      "Epoch: 7760/8000............. Loss: 0.9163\n",
      "Epoch: 7770/8000............. Loss: 0.9158\n",
      "Epoch: 7780/8000............. Loss: 0.9125\n",
      "Epoch: 7790/8000............. Loss: 0.9102\n",
      "Epoch: 7800/8000............. Loss: 0.9107\n",
      "Epoch: 7810/8000............. Loss: 0.9197\n",
      "Epoch: 7820/8000............. Loss: 0.9107\n",
      "Epoch: 7830/8000............. Loss: 0.9106\n",
      "Epoch: 7840/8000............. Loss: 0.9180\n",
      "Epoch: 7850/8000............. Loss: 0.9185\n",
      "Epoch: 7860/8000............. Loss: 0.9216\n",
      "Epoch: 7870/8000............. Loss: 0.9070\n",
      "Epoch: 7880/8000............. Loss: 0.9381\n",
      "Epoch: 7890/8000............. Loss: 0.9328\n",
      "Epoch: 7900/8000............. Loss: 0.9555\n",
      "Epoch: 7910/8000............. Loss: 0.9559\n",
      "Epoch: 7920/8000............. Loss: 1.4347\n",
      "Epoch: 7930/8000............. Loss: 1.4330\n",
      "Epoch: 7940/8000............. Loss: 1.2884\n",
      "Epoch: 7950/8000............. Loss: 1.2186\n",
      "Epoch: 7960/8000............. Loss: 1.1654\n",
      "Epoch: 7970/8000............. Loss: 1.1329\n",
      "Epoch: 7980/8000............. Loss: 1.1350\n",
      "Epoch: 7990/8000............. Loss: 1.1302\n",
      "Epoch: 8000/8000............. Loss: 1.0962\n"
     ]
    }
   ],
   "source": [
    "# Training Run\n",
    "\n",
    "for epoch in range(1, n_epochs + 1):\n",
    "    model.train()\n",
    "    optimizer.zero_grad() # Clears existing gradients from previous epoch\n",
    "\n",
    "    output, hidden = model(x_.float())\n",
    "    loss = criterion(output, y_)\n",
    "    loss.backward() # Does backpropagation and calculates gradients\n",
    "    optimizer.step() # Updates the weights accordingly\n",
    "    \n",
    "    if epoch%10 == 0:\n",
    "        print('Epoch: {}/{}.............'.format(epoch, n_epochs), end=' ')\n",
    "        print(\"Loss: {:.4f}\".format(loss.item()))"
   ]
  },
  {
   "cell_type": "code",
   "execution_count": 25,
   "metadata": {},
   "outputs": [],
   "source": [
    "model.eval() # Turn on the evaluation mode\n",
    "with torch.no_grad():\n",
    "    output,hidden = model(x_.float())\n",
    "# hidden_plot = pd.DataFrame(torch.cat([hidden.squeeze(0),output.argmax(1).unsqueeze(1)],dim=1).detach().cpu().numpy(),\n",
    "#             columns=['x','y','z','behavior'])"
   ]
  },
  {
   "cell_type": "code",
   "execution_count": 26,
   "metadata": {},
   "outputs": [
    {
     "name": "stdout",
     "output_type": "stream",
     "text": [
      "0.67598\n"
     ]
    }
   ],
   "source": [
    "score = sum(acc_combo(y_true, y_pred) for y_true, y_pred in\n",
    "            zip(output.argmax(1).detach().cpu().numpy(), y)) / y.shape[0]\n",
    "print(round(score, 5))"
   ]
  },
  {
   "cell_type": "code",
   "execution_count": 5,
   "metadata": {},
   "outputs": [],
   "source": [
    "#hidden_plot = pd.read_csv('hidden_plot.csv')\n",
    "mid_layer_output = pd.read_csv('mid_layer_output.csv')\n",
    "oof_y = pd.read_csv('oof_y.csv') \n",
    "#hidden_plot = pd.concat([mid_layer_output,oof_y],axis=1)"
   ]
  },
  {
   "cell_type": "code",
   "execution_count": 18,
   "metadata": {},
   "outputs": [],
   "source": [
    "hidden = hidden.squeeze(0).detach().cpu().numpy()\n",
    "output = output.argmax(1).unsqueeze(1).detach().cpu().numpy()"
   ]
  },
  {
   "cell_type": "code",
   "execution_count": 19,
   "metadata": {},
   "outputs": [],
   "source": [
    "from sklearn import manifold\n",
    "tsne = manifold.TSNE(n_components=2, init='pca',perplexity=50)\n",
    "X_tsne = tsne.fit_transform(hidden)"
   ]
  },
  {
   "cell_type": "code",
   "execution_count": 73,
   "metadata": {},
   "outputs": [
    {
     "ename": "NameError",
     "evalue": "name 'oof_y' is not defined",
     "output_type": "error",
     "traceback": [
      "\u001b[1;31m---------------------------------------------------------------------------\u001b[0m",
      "\u001b[1;31mNameError\u001b[0m                                 Traceback (most recent call last)",
      "\u001b[1;32m<ipython-input-73-e3cbfea51625>\u001b[0m in \u001b[0;36m<module>\u001b[1;34m\u001b[0m\n\u001b[1;32m----> 1\u001b[1;33m hidden_plot = pd.DataFrame(np.concatenate([X_tsne,oof_y],axis=1),\n\u001b[0m\u001b[0;32m      2\u001b[0m             columns=['x','y','behavior'])\n",
      "\u001b[1;31mNameError\u001b[0m: name 'oof_y' is not defined"
     ]
    }
   ],
   "source": [
    "hidden_plot = pd.DataFrame(np.concatenate([X_tsne,oof_y],axis=1),\n",
    "            columns=['x','y','behavior'])"
   ]
  },
  {
   "cell_type": "code",
   "execution_count": 20,
   "metadata": {},
   "outputs": [],
   "source": [
    "\n",
    "hidden_plot = pd.DataFrame(np.concatenate([X_tsne,output],axis=1),\n",
    "             columns=['x','y','behavior'])"
   ]
  },
  {
   "cell_type": "code",
   "execution_count": null,
   "metadata": {},
   "outputs": [],
   "source": [
    "#hidden_plot = pd.read_csv('hidden_plot.csv')\n",
    "import matplotlib.cm as cm\n",
    "%matplotlib qt \n",
    "#colors = cm.rainbow(np.linspace(0, 1, 19))\n",
    "colors = [plt.cm.tab10(i/float(19-1)) for i in range(19)]\n",
    "\n",
    "fig = plt.figure(figsize=(12,12))\n",
    "ax = Axes3D(fig)\n",
    "for label,color in zip(range(19),colors):\n",
    "    cnt = hidden_plot.loc[hidden_plot['behavior']==label].shape[0]\n",
    "    ax.scatter(hidden_plot.loc[hidden_plot['behavior']==label,'x'],\n",
    "               hidden_plot.loc[hidden_plot['behavior']==label,'y'],\n",
    "               hidden_plot.loc[hidden_plot['behavior']==label,'z'],\n",
    "               color=color,s=cnt/10,alpha=0.5,label=label)\n",
    "\n",
    "plt.legend()\n",
    "\n",
    "\n",
    "plt.show()\n"
   ]
  },
  {
   "cell_type": "code",
   "execution_count": 21,
   "metadata": {},
   "outputs": [
    {
     "data": {
      "image/png": "[encoded data removed]",
      "text/plain": [
       "<Figure size 432x432 with 1 Axes>"
      ]
     },
     "metadata": {
      "needs_background": "light"
     },
     "output_type": "display_data"
    }
   ],
   "source": [
    "#hidden_plot = pd.read_csv('hidden_plot.csv')\n",
    "import matplotlib.cm as cm\n",
    "%matplotlib inline\n",
    "#colors = cm.rainbow(np.linspace(0, 1, 19))\n",
    "colors = [plt.cm.tab10(i/float(19-1)) for i in range(19)]\n",
    "\n",
    "fig = plt.figure(figsize=(6,6))\n",
    "for label,color in zip(range(19),colors):\n",
    "    cnt = hidden_plot.loc[hidden_plot['behavior']==label].shape[0]\n",
    "    plt.scatter(hidden_plot.loc[hidden_plot['behavior']==label,'x'],\n",
    "               hidden_plot.loc[hidden_plot['behavior']==label,'y'],\n",
    "               color=color,s=cnt/10,alpha=0.5,label=label)\n",
    "\n",
    "plt.legend()\n",
    "\n",
    "\n",
    "plt.show()"
   ]
  },
  {
   "cell_type": "code",
   "execution_count": 87,
   "metadata": {},
   "outputs": [
    {
     "data": {
      "image/png": "[encoded data removed]",
      "text/plain": [
       "<Figure size 864x864 with 1 Axes>"
      ]
     },
     "metadata": {
      "needs_background": "light"
     },
     "output_type": "display_data"
    }
   ],
   "source": [
    "#hidden_plot = pd.read_csv('hidden_plot.csv')\n",
    "import matplotlib.cm as cm\n",
    "%matplotlib inline\n",
    "#colors = cm.rainbow(np.linspace(0, 1, 19))\n",
    "colors = [plt.cm.tab10(i/float(19-1)) for i in range(19)]\n",
    "\n",
    "fig = plt.figure(figsize=(12,12))\n",
    "for label,color in zip(range(19),colors):\n",
    "    cnt = hidden_plot.loc[hidden_plot['behavior']==label].shape[0]\n",
    "    plt.scatter(hidden_plot.loc[hidden_plot['behavior']==label,'x'],\n",
    "               hidden_plot.loc[hidden_plot['behavior']==label,'y'],\n",
    "               color=color,s=cnt/10,alpha=0.5,label=label)\n",
    "\n",
    "plt.legend()\n",
    "\n",
    "\n",
    "plt.show()"
   ]
  },
  {
   "cell_type": "code",
   "execution_count": 36,
   "metadata": {},
   "outputs": [
    {
     "name": "stdout",
     "output_type": "stream",
     "text": [
      "[name: \"/device:CPU:0\"\n",
      "device_type: \"CPU\"\n",
      "memory_limit: 268435456\n",
      "locality {\n",
      "}\n",
      "incarnation: 10854896457437589800\n",
      ", name: \"/device:XLA_CPU:0\"\n",
      "device_type: \"XLA_CPU\"\n",
      "memory_limit: 17179869184\n",
      "locality {\n",
      "}\n",
      "incarnation: 13125887308210126519\n",
      "physical_device_desc: \"device: XLA_CPU device\"\n",
      ", name: \"/device:XLA_GPU:0\"\n",
      "device_type: \"XLA_GPU\"\n",
      "memory_limit: 17179869184\n",
      "locality {\n",
      "}\n",
      "incarnation: 15465449180332086707\n",
      "physical_device_desc: \"device: XLA_GPU device\"\n",
      "]\n",
      "WARNING:tensorflow:From <ipython-input-36-16499fe816ec>:5: is_gpu_available (from tensorflow.python.framework.test_util) is deprecated and will be removed in a future version.\n",
      "Instructions for updating:\n",
      "Use `tf.config.list_physical_devices('GPU')` instead.\n"
     ]
    },
    {
     "data": {
      "text/plain": [
       "False"
      ]
     },
     "execution_count": 36,
     "metadata": {},
     "output_type": "execute_result"
    }
   ],
   "source": [
    "from tensorflow.python.client import device_lib\n",
    "print(device_lib.list_local_devices())\n",
    "\n",
    "import tensorflow as tf\n",
    "tf.test.is_gpu_available()"
   ]
  },
  {
   "cell_type": "code",
   "execution_count": 81,
   "metadata": {},
   "outputs": [],
   "source": [
    "colors={0:'r',1:'g',2:'b',3:'k'}\n",
    "c=[colors[i] for i in np.round(np.random.uniform(0,3,19),0)]"
   ]
  },
  {
   "cell_type": "code",
   "execution_count": 7,
   "metadata": {},
   "outputs": [],
   "source": [
    "class TransformerModel(nn.Module):\n",
    "\n",
    "    def __init__(self, ninp,output_size, nhead=8, nhid=256, nlayers=3, dropout=0.1):\n",
    "        super(TransformerModel, self).__init__()\n",
    "        from torch.nn import TransformerEncoder, TransformerEncoderLayer\n",
    "        self.model_type = 'Transformer'\n",
    "        self.pos_encoder = PositionalEncoding(ninp, dropout)\n",
    "        encoder_layers = TransformerEncoderLayer(ninp, nhead, nhid, dropout)\n",
    "        self.transformer_encoder = TransformerEncoder(encoder_layers, nlayers)\n",
    "        self.ninp = ninp\n",
    "        self.fc1 = nn.Linear(ninp*60, 3)\n",
    "        self.decoder = nn.Linear(3,output_size)\n",
    "        self.pos_encoder = PositionalEncoding(ninp, dropout)\n",
    "\n",
    "        self.init_weights()\n",
    "\n",
    "#     def generate_square_subsequent_mask(self, sz):\n",
    "#         mask = (torch.triu(torch.ones(sz, sz)) == 1).transpose(0, 1)\n",
    "#         mask = mask.float().masked_fill(mask == 0, float('-inf')).masked_fill(mask == 1, float(0.0))\n",
    "#         return mask\n",
    "\n",
    "    def init_weights(self):\n",
    "        initrange = 0.1\n",
    "        #self.encoder.weight.data.uniform_(-initrange, initrange)\n",
    "        self.decoder.bias.data.zero_()\n",
    "        self.decoder.weight.data.uniform_(-initrange, initrange)\n",
    "\n",
    "    def forward(self, src, src_mask=None):\n",
    "        #src = self.encoder(src) * math.sqrt(self.ninp)\n",
    "        src = self.pos_encoder(src)\n",
    "        output = self.transformer_encoder(src, None)\n",
    "\n",
    "        output = output.view(output.size(0),-1)\n",
    "\n",
    "        fc1_output = self.fc1(output)\n",
    "        output = self.decoder(fc1_output)\n",
    "        return output,fc1_output\n",
    "    \n",
    "class PositionalEncoding(nn.Module):\n",
    "\n",
    "    def __init__(self, d_model, dropout=0.1, max_len=60):\n",
    "        super(PositionalEncoding, self).__init__()\n",
    "        self.dropout = nn.Dropout(p=dropout)\n",
    "\n",
    "        pe = torch.zeros(max_len, d_model)\n",
    "        position = torch.arange(0, max_len, dtype=torch.float).unsqueeze(1)\n",
    "        div_term = torch.exp(torch.arange(0, d_model, 2).float() * (-math.log(10000.0) / d_model))\n",
    "        pe[:, 0::2] = torch.sin(position * div_term)\n",
    "        pe[:, 1::2] = torch.cos(position * div_term)\n",
    "        pe = pe.unsqueeze(0)\n",
    "        self.register_buffer('pe', pe)\n",
    "\n",
    "    def forward(self, x):\n",
    "        x = x + self.pe[:,:x.size(1), :]\n",
    "        return self.dropout(x)\n",
    "    \n",
    "def evaluate(eval_model, data_source):\n",
    "    eval_model.eval() # Turn on the evaluation mode\n",
    "#     total_loss = 0.\n",
    "#     ntokens = len(TEXT.vocab.stoi)\n",
    "#     src_mask = model.generate_square_subsequent_mask(bptt).to(device)\n",
    "    with torch.no_grad():\n",
    "        output,hidden = eval_model(data_source)\n",
    "    return output,hidden"
   ]
  },
  {
   "cell_type": "code",
   "execution_count": 4,
   "metadata": {},
   "outputs": [],
   "source": [
    "x_ = torch.tensor(x).squeeze(-1)\n",
    "y_ = torch.tensor(y)\n",
    "x_ = x_.to(device)\n",
    "y_ = y_.to(device)"
   ]
  },
  {
   "cell_type": "code",
   "execution_count": 5,
   "metadata": {},
   "outputs": [
    {
     "name": "stderr",
     "output_type": "stream",
     "text": [
      "  1%|▊                                                                               | 10/1000 [00:10<17:01,  1.03s/it]"
     ]
    },
    {
     "name": "stdout",
     "output_type": "stream",
     "text": [
      "Epoch: 10/1000............. Loss: 22.9633\n"
     ]
    },
    {
     "name": "stderr",
     "output_type": "stream",
     "text": [
      "  2%|█▌                                                                              | 20/1000 [00:20<16:33,  1.01s/it]"
     ]
    },
    {
     "name": "stdout",
     "output_type": "stream",
     "text": [
      "Epoch: 20/1000............. Loss: 22.9116\n"
     ]
    },
    {
     "name": "stderr",
     "output_type": "stream",
     "text": [
      "  3%|██▍                                                                             | 30/1000 [00:30<16:25,  1.02s/it]"
     ]
    },
    {
     "name": "stdout",
     "output_type": "stream",
     "text": [
      "Epoch: 30/1000............. Loss: 22.8761\n"
     ]
    },
    {
     "name": "stderr",
     "output_type": "stream",
     "text": [
      "  4%|███▏                                                                            | 40/1000 [00:41<16:17,  1.02s/it]"
     ]
    },
    {
     "name": "stdout",
     "output_type": "stream",
     "text": [
      "Epoch: 40/1000............. Loss: 21.3048\n"
     ]
    },
    {
     "name": "stderr",
     "output_type": "stream",
     "text": [
      "  5%|████                                                                            | 50/1000 [00:51<16:07,  1.02s/it]"
     ]
    },
    {
     "name": "stdout",
     "output_type": "stream",
     "text": [
      "Epoch: 50/1000............. Loss: 18.2152\n"
     ]
    },
    {
     "name": "stderr",
     "output_type": "stream",
     "text": [
      "  6%|████▊                                                                           | 60/1000 [01:01<15:57,  1.02s/it]"
     ]
    },
    {
     "name": "stdout",
     "output_type": "stream",
     "text": [
      "Epoch: 60/1000............. Loss: 15.6883\n"
     ]
    },
    {
     "name": "stderr",
     "output_type": "stream",
     "text": [
      "  7%|█████▌                                                                          | 70/1000 [01:11<15:51,  1.02s/it]"
     ]
    },
    {
     "name": "stdout",
     "output_type": "stream",
     "text": [
      "Epoch: 70/1000............. Loss: 13.0236\n"
     ]
    },
    {
     "name": "stderr",
     "output_type": "stream",
     "text": [
      "  8%|██████▍                                                                         | 80/1000 [01:21<15:38,  1.02s/it]"
     ]
    },
    {
     "name": "stdout",
     "output_type": "stream",
     "text": [
      "Epoch: 80/1000............. Loss: 13.5390\n"
     ]
    },
    {
     "name": "stderr",
     "output_type": "stream",
     "text": [
      "  9%|███████▏                                                                        | 90/1000 [01:32<15:28,  1.02s/it]"
     ]
    },
    {
     "name": "stdout",
     "output_type": "stream",
     "text": [
      "Epoch: 90/1000............. Loss: 11.5886\n"
     ]
    },
    {
     "name": "stderr",
     "output_type": "stream",
     "text": [
      " 10%|███████▉                                                                       | 100/1000 [01:42<15:18,  1.02s/it]"
     ]
    },
    {
     "name": "stdout",
     "output_type": "stream",
     "text": [
      "Epoch: 100/1000............. Loss: 10.4270\n"
     ]
    },
    {
     "name": "stderr",
     "output_type": "stream",
     "text": [
      " 11%|████████▋                                                                      | 110/1000 [01:52<15:08,  1.02s/it]"
     ]
    },
    {
     "name": "stdout",
     "output_type": "stream",
     "text": [
      "Epoch: 110/1000............. Loss: 13.8111\n"
     ]
    },
    {
     "name": "stderr",
     "output_type": "stream",
     "text": [
      " 12%|█████████▍                                                                     | 120/1000 [02:02<14:58,  1.02s/it]"
     ]
    },
    {
     "name": "stdout",
     "output_type": "stream",
     "text": [
      "Epoch: 120/1000............. Loss: 9.1071\n"
     ]
    },
    {
     "name": "stderr",
     "output_type": "stream",
     "text": [
      " 13%|██████████▎                                                                    | 130/1000 [02:12<14:48,  1.02s/it]"
     ]
    },
    {
     "name": "stdout",
     "output_type": "stream",
     "text": [
      "Epoch: 130/1000............. Loss: 12.6547\n"
     ]
    },
    {
     "name": "stderr",
     "output_type": "stream",
     "text": [
      " 14%|███████████                                                                    | 140/1000 [02:23<14:38,  1.02s/it]"
     ]
    },
    {
     "name": "stdout",
     "output_type": "stream",
     "text": [
      "Epoch: 140/1000............. Loss: 9.2352\n"
     ]
    },
    {
     "name": "stderr",
     "output_type": "stream",
     "text": [
      " 15%|███████████▊                                                                   | 150/1000 [02:33<14:28,  1.02s/it]"
     ]
    },
    {
     "name": "stdout",
     "output_type": "stream",
     "text": [
      "Epoch: 150/1000............. Loss: 8.4939\n"
     ]
    },
    {
     "name": "stderr",
     "output_type": "stream",
     "text": [
      " 16%|████████████▋                                                                  | 160/1000 [02:43<14:18,  1.02s/it]"
     ]
    },
    {
     "name": "stdout",
     "output_type": "stream",
     "text": [
      "Epoch: 160/1000............. Loss: 8.5648\n"
     ]
    },
    {
     "name": "stderr",
     "output_type": "stream",
     "text": [
      " 17%|█████████████▍                                                                 | 170/1000 [02:53<14:07,  1.02s/it]"
     ]
    },
    {
     "name": "stdout",
     "output_type": "stream",
     "text": [
      "Epoch: 170/1000............. Loss: 8.4316\n"
     ]
    },
    {
     "name": "stderr",
     "output_type": "stream",
     "text": [
      " 18%|██████████████▏                                                                | 180/1000 [03:03<13:57,  1.02s/it]"
     ]
    },
    {
     "name": "stdout",
     "output_type": "stream",
     "text": [
      "Epoch: 180/1000............. Loss: 8.5703\n"
     ]
    },
    {
     "name": "stderr",
     "output_type": "stream",
     "text": [
      " 19%|███████████████                                                                | 190/1000 [03:14<13:47,  1.02s/it]"
     ]
    },
    {
     "name": "stdout",
     "output_type": "stream",
     "text": [
      "Epoch: 190/1000............. Loss: 7.2289\n"
     ]
    },
    {
     "name": "stderr",
     "output_type": "stream",
     "text": [
      " 20%|███████████████▊                                                               | 200/1000 [03:24<13:37,  1.02s/it]"
     ]
    },
    {
     "name": "stdout",
     "output_type": "stream",
     "text": [
      "Epoch: 200/1000............. Loss: 8.0802\n"
     ]
    },
    {
     "name": "stderr",
     "output_type": "stream",
     "text": [
      " 21%|████████████████▌                                                              | 210/1000 [03:34<13:26,  1.02s/it]"
     ]
    },
    {
     "name": "stdout",
     "output_type": "stream",
     "text": [
      "Epoch: 210/1000............. Loss: 6.9553\n"
     ]
    },
    {
     "name": "stderr",
     "output_type": "stream",
     "text": [
      " 22%|█████████████████▍                                                             | 220/1000 [03:44<13:16,  1.02s/it]"
     ]
    },
    {
     "name": "stdout",
     "output_type": "stream",
     "text": [
      "Epoch: 220/1000............. Loss: 6.6204\n"
     ]
    },
    {
     "name": "stderr",
     "output_type": "stream",
     "text": [
      " 23%|██████████████████▏                                                            | 230/1000 [03:55<13:07,  1.02s/it]"
     ]
    },
    {
     "name": "stdout",
     "output_type": "stream",
     "text": [
      "Epoch: 230/1000............. Loss: 14.2449\n"
     ]
    },
    {
     "name": "stderr",
     "output_type": "stream",
     "text": [
      " 24%|██████████████████▉                                                            | 240/1000 [04:05<12:58,  1.02s/it]"
     ]
    },
    {
     "name": "stdout",
     "output_type": "stream",
     "text": [
      "Epoch: 240/1000............. Loss: 9.3568\n"
     ]
    },
    {
     "name": "stderr",
     "output_type": "stream",
     "text": [
      " 25%|███████████████████▊                                                           | 250/1000 [04:15<12:47,  1.02s/it]"
     ]
    },
    {
     "name": "stdout",
     "output_type": "stream",
     "text": [
      "Epoch: 250/1000............. Loss: 9.6335\n"
     ]
    },
    {
     "name": "stderr",
     "output_type": "stream",
     "text": [
      " 26%|████████████████████▌                                                          | 260/1000 [04:25<12:36,  1.02s/it]"
     ]
    },
    {
     "name": "stdout",
     "output_type": "stream",
     "text": [
      "Epoch: 260/1000............. Loss: 8.0800\n"
     ]
    },
    {
     "name": "stderr",
     "output_type": "stream",
     "text": [
      " 27%|█████████████████████▎                                                         | 270/1000 [04:36<12:25,  1.02s/it]"
     ]
    },
    {
     "name": "stdout",
     "output_type": "stream",
     "text": [
      "Epoch: 270/1000............. Loss: 7.6191\n"
     ]
    },
    {
     "name": "stderr",
     "output_type": "stream",
     "text": [
      " 28%|██████████████████████                                                         | 280/1000 [04:46<12:15,  1.02s/it]"
     ]
    },
    {
     "name": "stdout",
     "output_type": "stream",
     "text": [
      "Epoch: 280/1000............. Loss: 8.9296\n"
     ]
    },
    {
     "name": "stderr",
     "output_type": "stream",
     "text": [
      " 29%|██████████████████████▉                                                        | 290/1000 [04:56<12:05,  1.02s/it]"
     ]
    },
    {
     "name": "stdout",
     "output_type": "stream",
     "text": [
      "Epoch: 290/1000............. Loss: 7.4526\n"
     ]
    },
    {
     "name": "stderr",
     "output_type": "stream",
     "text": [
      " 30%|███████████████████████▋                                                       | 300/1000 [05:06<11:56,  1.02s/it]"
     ]
    },
    {
     "name": "stdout",
     "output_type": "stream",
     "text": [
      "Epoch: 300/1000............. Loss: 10.6577\n"
     ]
    },
    {
     "name": "stderr",
     "output_type": "stream",
     "text": [
      " 31%|████████████████████████▍                                                      | 310/1000 [05:16<11:44,  1.02s/it]"
     ]
    },
    {
     "name": "stdout",
     "output_type": "stream",
     "text": [
      "Epoch: 310/1000............. Loss: 7.4746\n"
     ]
    },
    {
     "name": "stderr",
     "output_type": "stream",
     "text": [
      " 32%|█████████████████████████▎                                                     | 320/1000 [05:27<11:34,  1.02s/it]"
     ]
    },
    {
     "name": "stdout",
     "output_type": "stream",
     "text": [
      "Epoch: 320/1000............. Loss: 9.1319\n"
     ]
    },
    {
     "name": "stderr",
     "output_type": "stream",
     "text": [
      " 33%|██████████████████████████                                                     | 330/1000 [05:37<11:24,  1.02s/it]"
     ]
    },
    {
     "name": "stdout",
     "output_type": "stream",
     "text": [
      "Epoch: 330/1000............. Loss: 8.6146\n"
     ]
    },
    {
     "name": "stderr",
     "output_type": "stream",
     "text": [
      " 34%|██████████████████████████▊                                                    | 340/1000 [05:47<11:14,  1.02s/it]"
     ]
    },
    {
     "name": "stdout",
     "output_type": "stream",
     "text": [
      "Epoch: 340/1000............. Loss: 8.2097\n"
     ]
    },
    {
     "name": "stderr",
     "output_type": "stream",
     "text": [
      " 35%|███████████████████████████▋                                                   | 350/1000 [05:57<11:04,  1.02s/it]"
     ]
    },
    {
     "name": "stdout",
     "output_type": "stream",
     "text": [
      "Epoch: 350/1000............. Loss: 8.4543\n"
     ]
    },
    {
     "name": "stderr",
     "output_type": "stream",
     "text": [
      " 36%|████████████████████████████▍                                                  | 360/1000 [06:07<10:54,  1.02s/it]"
     ]
    },
    {
     "name": "stdout",
     "output_type": "stream",
     "text": [
      "Epoch: 360/1000............. Loss: 8.8873\n"
     ]
    },
    {
     "name": "stderr",
     "output_type": "stream",
     "text": [
      " 37%|█████████████████████████████▏                                                 | 370/1000 [06:18<10:43,  1.02s/it]"
     ]
    },
    {
     "name": "stdout",
     "output_type": "stream",
     "text": [
      "Epoch: 370/1000............. Loss: 7.9026\n"
     ]
    },
    {
     "name": "stderr",
     "output_type": "stream",
     "text": [
      " 38%|██████████████████████████████                                                 | 380/1000 [06:28<10:33,  1.02s/it]"
     ]
    },
    {
     "name": "stdout",
     "output_type": "stream",
     "text": [
      "Epoch: 380/1000............. Loss: 8.0001\n"
     ]
    },
    {
     "name": "stderr",
     "output_type": "stream",
     "text": [
      " 39%|██████████████████████████████▊                                                | 390/1000 [06:38<10:23,  1.02s/it]"
     ]
    },
    {
     "name": "stdout",
     "output_type": "stream",
     "text": [
      "Epoch: 390/1000............. Loss: 7.8387\n"
     ]
    },
    {
     "name": "stderr",
     "output_type": "stream",
     "text": [
      " 40%|███████████████████████████████▌                                               | 400/1000 [06:49<10:18,  1.03s/it]"
     ]
    },
    {
     "name": "stdout",
     "output_type": "stream",
     "text": [
      "Epoch: 400/1000............. Loss: 7.8348\n"
     ]
    },
    {
     "name": "stderr",
     "output_type": "stream",
     "text": [
      " 41%|████████████████████████████████▍                                              | 410/1000 [06:59<10:03,  1.02s/it]"
     ]
    },
    {
     "name": "stdout",
     "output_type": "stream",
     "text": [
      "Epoch: 410/1000............. Loss: 14.5372\n"
     ]
    },
    {
     "name": "stderr",
     "output_type": "stream",
     "text": [
      " 42%|█████████████████████████████████▏                                             | 420/1000 [07:09<09:53,  1.02s/it]"
     ]
    },
    {
     "name": "stdout",
     "output_type": "stream",
     "text": [
      "Epoch: 420/1000............. Loss: 7.8600\n"
     ]
    },
    {
     "name": "stderr",
     "output_type": "stream",
     "text": [
      " 43%|█████████████████████████████████▉                                             | 430/1000 [07:19<09:42,  1.02s/it]"
     ]
    },
    {
     "name": "stdout",
     "output_type": "stream",
     "text": [
      "Epoch: 430/1000............. Loss: 9.3832\n"
     ]
    },
    {
     "name": "stderr",
     "output_type": "stream",
     "text": [
      " 44%|██████████████████████████████████▊                                            | 440/1000 [07:29<09:32,  1.02s/it]"
     ]
    },
    {
     "name": "stdout",
     "output_type": "stream",
     "text": [
      "Epoch: 440/1000............. Loss: 7.1780\n"
     ]
    },
    {
     "name": "stderr",
     "output_type": "stream",
     "text": [
      " 45%|███████████████████████████████████▌                                           | 450/1000 [07:40<09:21,  1.02s/it]"
     ]
    },
    {
     "name": "stdout",
     "output_type": "stream",
     "text": [
      "Epoch: 450/1000............. Loss: 7.7637\n"
     ]
    },
    {
     "name": "stderr",
     "output_type": "stream",
     "text": [
      " 46%|████████████████████████████████████▎                                          | 460/1000 [07:50<09:11,  1.02s/it]"
     ]
    },
    {
     "name": "stdout",
     "output_type": "stream",
     "text": [
      "Epoch: 460/1000............. Loss: 7.7717\n"
     ]
    },
    {
     "name": "stderr",
     "output_type": "stream",
     "text": [
      " 47%|█████████████████████████████████████▏                                         | 470/1000 [08:00<09:01,  1.02s/it]"
     ]
    },
    {
     "name": "stdout",
     "output_type": "stream",
     "text": [
      "Epoch: 470/1000............. Loss: 7.4054\n"
     ]
    },
    {
     "name": "stderr",
     "output_type": "stream",
     "text": [
      " 48%|█████████████████████████████████████▉                                         | 480/1000 [08:10<08:51,  1.02s/it]"
     ]
    },
    {
     "name": "stdout",
     "output_type": "stream",
     "text": [
      "Epoch: 480/1000............. Loss: 6.8139\n"
     ]
    },
    {
     "name": "stderr",
     "output_type": "stream",
     "text": [
      " 49%|██████████████████████████████████████▋                                        | 490/1000 [08:21<08:41,  1.02s/it]"
     ]
    },
    {
     "name": "stdout",
     "output_type": "stream",
     "text": [
      "Epoch: 490/1000............. Loss: 7.4137\n"
     ]
    },
    {
     "name": "stderr",
     "output_type": "stream",
     "text": [
      " 50%|███████████████████████████████████████▌                                       | 500/1000 [08:31<08:30,  1.02s/it]"
     ]
    },
    {
     "name": "stdout",
     "output_type": "stream",
     "text": [
      "Epoch: 500/1000............. Loss: 8.6715\n"
     ]
    },
    {
     "name": "stderr",
     "output_type": "stream",
     "text": [
      " 51%|████████████████████████████████████████▎                                      | 510/1000 [08:41<08:20,  1.02s/it]"
     ]
    },
    {
     "name": "stdout",
     "output_type": "stream",
     "text": [
      "Epoch: 510/1000............. Loss: 7.8544\n"
     ]
    },
    {
     "name": "stderr",
     "output_type": "stream",
     "text": [
      " 52%|█████████████████████████████████████████                                      | 520/1000 [08:51<08:10,  1.02s/it]"
     ]
    },
    {
     "name": "stdout",
     "output_type": "stream",
     "text": [
      "Epoch: 520/1000............. Loss: 9.9016\n"
     ]
    },
    {
     "name": "stderr",
     "output_type": "stream",
     "text": [
      " 53%|█████████████████████████████████████████▊                                     | 530/1000 [09:01<08:00,  1.02s/it]"
     ]
    },
    {
     "name": "stdout",
     "output_type": "stream",
     "text": [
      "Epoch: 530/1000............. Loss: 8.7705\n"
     ]
    },
    {
     "name": "stderr",
     "output_type": "stream",
     "text": [
      " 54%|██████████████████████████████████████████▋                                    | 540/1000 [09:12<07:51,  1.03s/it]"
     ]
    },
    {
     "name": "stdout",
     "output_type": "stream",
     "text": [
      "Epoch: 540/1000............. Loss: 7.7917\n"
     ]
    },
    {
     "name": "stderr",
     "output_type": "stream",
     "text": [
      " 55%|███████████████████████████████████████████▍                                   | 550/1000 [09:22<07:40,  1.02s/it]"
     ]
    },
    {
     "name": "stdout",
     "output_type": "stream",
     "text": [
      "Epoch: 550/1000............. Loss: 9.7644\n"
     ]
    },
    {
     "name": "stderr",
     "output_type": "stream",
     "text": [
      " 56%|████████████████████████████████████████████▏                                  | 560/1000 [09:32<07:29,  1.02s/it]"
     ]
    },
    {
     "name": "stdout",
     "output_type": "stream",
     "text": [
      "Epoch: 560/1000............. Loss: 10.5488\n"
     ]
    },
    {
     "name": "stderr",
     "output_type": "stream",
     "text": [
      " 57%|█████████████████████████████████████████████                                  | 570/1000 [09:42<07:19,  1.02s/it]"
     ]
    },
    {
     "name": "stdout",
     "output_type": "stream",
     "text": [
      "Epoch: 570/1000............. Loss: 8.8701\n"
     ]
    },
    {
     "name": "stderr",
     "output_type": "stream",
     "text": [
      " 58%|█████████████████████████████████████████████▊                                 | 580/1000 [09:53<07:09,  1.02s/it]"
     ]
    },
    {
     "name": "stdout",
     "output_type": "stream",
     "text": [
      "Epoch: 580/1000............. Loss: 7.8977\n"
     ]
    },
    {
     "name": "stderr",
     "output_type": "stream",
     "text": [
      " 59%|██████████████████████████████████████████████▌                                | 590/1000 [10:03<06:59,  1.02s/it]"
     ]
    },
    {
     "name": "stdout",
     "output_type": "stream",
     "text": [
      "Epoch: 590/1000............. Loss: 8.6431\n"
     ]
    },
    {
     "name": "stderr",
     "output_type": "stream",
     "text": [
      " 60%|███████████████████████████████████████████████▍                               | 600/1000 [10:13<06:48,  1.02s/it]"
     ]
    },
    {
     "name": "stdout",
     "output_type": "stream",
     "text": [
      "Epoch: 600/1000............. Loss: 7.6263\n"
     ]
    },
    {
     "name": "stderr",
     "output_type": "stream",
     "text": [
      " 61%|████████████████████████████████████████████████▏                              | 610/1000 [10:23<06:38,  1.02s/it]"
     ]
    },
    {
     "name": "stdout",
     "output_type": "stream",
     "text": [
      "Epoch: 610/1000............. Loss: 10.2907\n"
     ]
    },
    {
     "name": "stderr",
     "output_type": "stream",
     "text": [
      " 62%|████████████████████████████████████████████████▉                              | 620/1000 [10:33<06:28,  1.02s/it]"
     ]
    },
    {
     "name": "stdout",
     "output_type": "stream",
     "text": [
      "Epoch: 620/1000............. Loss: 9.9470\n"
     ]
    },
    {
     "name": "stderr",
     "output_type": "stream",
     "text": [
      " 63%|█████████████████████████████████████████████████▊                             | 630/1000 [10:44<06:18,  1.02s/it]"
     ]
    },
    {
     "name": "stdout",
     "output_type": "stream",
     "text": [
      "Epoch: 630/1000............. Loss: 11.4586\n"
     ]
    },
    {
     "name": "stderr",
     "output_type": "stream",
     "text": [
      " 64%|██████████████████████████████████████████████████▌                            | 640/1000 [10:54<06:08,  1.02s/it]"
     ]
    },
    {
     "name": "stdout",
     "output_type": "stream",
     "text": [
      "Epoch: 640/1000............. Loss: 9.0491\n"
     ]
    },
    {
     "name": "stderr",
     "output_type": "stream",
     "text": [
      " 65%|███████████████████████████████████████████████████▎                           | 650/1000 [11:04<05:57,  1.02s/it]"
     ]
    },
    {
     "name": "stdout",
     "output_type": "stream",
     "text": [
      "Epoch: 650/1000............. Loss: 9.7991\n"
     ]
    },
    {
     "name": "stderr",
     "output_type": "stream",
     "text": [
      " 66%|████████████████████████████████████████████████████▏                          | 660/1000 [11:14<05:47,  1.02s/it]"
     ]
    },
    {
     "name": "stdout",
     "output_type": "stream",
     "text": [
      "Epoch: 660/1000............. Loss: 8.3438\n"
     ]
    },
    {
     "name": "stderr",
     "output_type": "stream",
     "text": [
      " 67%|████████████████████████████████████████████████████▉                          | 670/1000 [11:25<05:37,  1.02s/it]"
     ]
    },
    {
     "name": "stdout",
     "output_type": "stream",
     "text": [
      "Epoch: 670/1000............. Loss: 8.5873\n"
     ]
    },
    {
     "name": "stderr",
     "output_type": "stream",
     "text": [
      " 68%|█████████████████████████████████████████████████████▋                         | 680/1000 [11:35<05:31,  1.03s/it]"
     ]
    },
    {
     "name": "stdout",
     "output_type": "stream",
     "text": [
      "Epoch: 680/1000............. Loss: 7.9012\n"
     ]
    },
    {
     "name": "stderr",
     "output_type": "stream",
     "text": [
      " 69%|██████████████████████████████████████████████████████▌                        | 690/1000 [11:45<05:26,  1.05s/it]"
     ]
    },
    {
     "name": "stdout",
     "output_type": "stream",
     "text": [
      "Epoch: 690/1000............. Loss: 9.3843\n"
     ]
    },
    {
     "name": "stderr",
     "output_type": "stream",
     "text": [
      " 70%|███████████████████████████████████████████████████████▎                       | 700/1000 [11:56<05:22,  1.07s/it]"
     ]
    },
    {
     "name": "stdout",
     "output_type": "stream",
     "text": [
      "Epoch: 700/1000............. Loss: 11.4816\n"
     ]
    },
    {
     "name": "stderr",
     "output_type": "stream",
     "text": [
      " 71%|████████████████████████████████████████████████████████                       | 710/1000 [12:07<04:58,  1.03s/it]"
     ]
    },
    {
     "name": "stdout",
     "output_type": "stream",
     "text": [
      "Epoch: 710/1000............. Loss: 8.8541\n"
     ]
    },
    {
     "name": "stderr",
     "output_type": "stream",
     "text": [
      " 72%|████████████████████████████████████████████████████████▉                      | 720/1000 [12:17<04:51,  1.04s/it]"
     ]
    },
    {
     "name": "stdout",
     "output_type": "stream",
     "text": [
      "Epoch: 720/1000............. Loss: 16.0862\n"
     ]
    },
    {
     "name": "stderr",
     "output_type": "stream",
     "text": [
      " 73%|█████████████████████████████████████████████████████████▋                     | 730/1000 [12:27<04:37,  1.03s/it]"
     ]
    },
    {
     "name": "stdout",
     "output_type": "stream",
     "text": [
      "Epoch: 730/1000............. Loss: 9.4601\n"
     ]
    },
    {
     "name": "stderr",
     "output_type": "stream",
     "text": [
      " 74%|██████████████████████████████████████████████████████████▍                    | 740/1000 [12:37<04:26,  1.03s/it]"
     ]
    },
    {
     "name": "stdout",
     "output_type": "stream",
     "text": [
      "Epoch: 740/1000............. Loss: 13.7630\n"
     ]
    },
    {
     "name": "stderr",
     "output_type": "stream",
     "text": [
      " 75%|███████████████████████████████████████████████████████████▎                   | 750/1000 [12:48<04:15,  1.02s/it]"
     ]
    },
    {
     "name": "stdout",
     "output_type": "stream",
     "text": [
      "Epoch: 750/1000............. Loss: 9.8460\n"
     ]
    },
    {
     "name": "stderr",
     "output_type": "stream",
     "text": [
      " 76%|████████████████████████████████████████████████████████████                   | 760/1000 [12:58<04:11,  1.05s/it]"
     ]
    },
    {
     "name": "stdout",
     "output_type": "stream",
     "text": [
      "Epoch: 760/1000............. Loss: 11.5931\n"
     ]
    },
    {
     "name": "stderr",
     "output_type": "stream",
     "text": [
      " 77%|████████████████████████████████████████████████████████████▊                  | 770/1000 [13:08<04:00,  1.05s/it]"
     ]
    },
    {
     "name": "stdout",
     "output_type": "stream",
     "text": [
      "Epoch: 770/1000............. Loss: 9.3589\n"
     ]
    },
    {
     "name": "stderr",
     "output_type": "stream",
     "text": [
      " 78%|█████████████████████████████████████████████████████████████▌                 | 780/1000 [13:19<03:47,  1.04s/it]"
     ]
    },
    {
     "name": "stdout",
     "output_type": "stream",
     "text": [
      "Epoch: 780/1000............. Loss: 8.9406\n"
     ]
    },
    {
     "name": "stderr",
     "output_type": "stream",
     "text": [
      " 79%|██████████████████████████████████████████████████████████████▍                | 790/1000 [13:29<03:40,  1.05s/it]"
     ]
    },
    {
     "name": "stdout",
     "output_type": "stream",
     "text": [
      "Epoch: 790/1000............. Loss: 8.2671\n"
     ]
    },
    {
     "name": "stderr",
     "output_type": "stream",
     "text": [
      " 80%|███████████████████████████████████████████████████████████████▏               | 800/1000 [13:40<03:27,  1.04s/it]"
     ]
    },
    {
     "name": "stdout",
     "output_type": "stream",
     "text": [
      "Epoch: 800/1000............. Loss: 12.4009\n"
     ]
    },
    {
     "name": "stderr",
     "output_type": "stream",
     "text": [
      " 81%|███████████████████████████████████████████████████████████████▉               | 810/1000 [13:50<03:14,  1.02s/it]"
     ]
    },
    {
     "name": "stdout",
     "output_type": "stream",
     "text": [
      "Epoch: 810/1000............. Loss: 8.2272\n"
     ]
    },
    {
     "name": "stderr",
     "output_type": "stream",
     "text": [
      " 82%|████████████████████████████████████████████████████████████████▊              | 820/1000 [14:00<03:03,  1.02s/it]"
     ]
    },
    {
     "name": "stdout",
     "output_type": "stream",
     "text": [
      "Epoch: 820/1000............. Loss: 9.5123\n"
     ]
    },
    {
     "name": "stderr",
     "output_type": "stream",
     "text": [
      " 83%|█████████████████████████████████████████████████████████████████▌             | 830/1000 [14:10<02:53,  1.02s/it]"
     ]
    },
    {
     "name": "stdout",
     "output_type": "stream",
     "text": [
      "Epoch: 830/1000............. Loss: 41.5673\n"
     ]
    },
    {
     "name": "stderr",
     "output_type": "stream",
     "text": [
      " 84%|██████████████████████████████████████████████████████████████████▎            | 840/1000 [14:21<02:43,  1.02s/it]"
     ]
    },
    {
     "name": "stdout",
     "output_type": "stream",
     "text": [
      "Epoch: 840/1000............. Loss: 10.3178\n"
     ]
    },
    {
     "name": "stderr",
     "output_type": "stream",
     "text": [
      " 85%|███████████████████████████████████████████████████████████████████▏           | 850/1000 [14:31<02:34,  1.03s/it]"
     ]
    },
    {
     "name": "stdout",
     "output_type": "stream",
     "text": [
      "Epoch: 850/1000............. Loss: 13.0241\n"
     ]
    },
    {
     "name": "stderr",
     "output_type": "stream",
     "text": [
      " 86%|███████████████████████████████████████████████████████████████████▉           | 860/1000 [14:41<02:23,  1.02s/it]"
     ]
    },
    {
     "name": "stdout",
     "output_type": "stream",
     "text": [
      "Epoch: 860/1000............. Loss: 19.1517\n"
     ]
    },
    {
     "name": "stderr",
     "output_type": "stream",
     "text": [
      " 87%|████████████████████████████████████████████████████████████████████▋          | 870/1000 [14:51<02:13,  1.03s/it]"
     ]
    },
    {
     "name": "stdout",
     "output_type": "stream",
     "text": [
      "Epoch: 870/1000............. Loss: 8.4427\n"
     ]
    },
    {
     "name": "stderr",
     "output_type": "stream",
     "text": [
      " 88%|█████████████████████████████████████████████████████████████████████▌         | 880/1000 [15:02<02:05,  1.04s/it]"
     ]
    },
    {
     "name": "stdout",
     "output_type": "stream",
     "text": [
      "Epoch: 880/1000............. Loss: 9.3113\n"
     ]
    },
    {
     "name": "stderr",
     "output_type": "stream",
     "text": [
      " 89%|██████████████████████████████████████████████████████████████████████▎        | 890/1000 [15:12<01:55,  1.05s/it]"
     ]
    },
    {
     "name": "stdout",
     "output_type": "stream",
     "text": [
      "Epoch: 890/1000............. Loss: 8.2649\n"
     ]
    },
    {
     "name": "stderr",
     "output_type": "stream",
     "text": [
      " 90%|███████████████████████████████████████████████████████████████████████        | 900/1000 [15:22<01:42,  1.03s/it]"
     ]
    },
    {
     "name": "stdout",
     "output_type": "stream",
     "text": [
      "Epoch: 900/1000............. Loss: 9.8152\n"
     ]
    },
    {
     "name": "stderr",
     "output_type": "stream",
     "text": [
      " 91%|███████████████████████████████████████████████████████████████████████▉       | 910/1000 [15:33<01:36,  1.07s/it]"
     ]
    },
    {
     "name": "stdout",
     "output_type": "stream",
     "text": [
      "Epoch: 910/1000............. Loss: 8.1257\n"
     ]
    },
    {
     "name": "stderr",
     "output_type": "stream",
     "text": [
      " 92%|████████████████████████████████████████████████████████████████████████▋      | 920/1000 [15:44<01:25,  1.07s/it]"
     ]
    },
    {
     "name": "stdout",
     "output_type": "stream",
     "text": [
      "Epoch: 920/1000............. Loss: 7.6221\n"
     ]
    },
    {
     "name": "stderr",
     "output_type": "stream",
     "text": [
      " 93%|█████████████████████████████████████████████████████████████████████████▍     | 930/1000 [15:54<01:12,  1.04s/it]"
     ]
    },
    {
     "name": "stdout",
     "output_type": "stream",
     "text": [
      "Epoch: 930/1000............. Loss: 10.5280\n"
     ]
    },
    {
     "name": "stderr",
     "output_type": "stream",
     "text": [
      " 94%|██████████████████████████████████████████████████████████████████████████▎    | 940/1000 [16:05<01:04,  1.07s/it]"
     ]
    },
    {
     "name": "stdout",
     "output_type": "stream",
     "text": [
      "Epoch: 940/1000............. Loss: 9.0951\n"
     ]
    },
    {
     "name": "stderr",
     "output_type": "stream",
     "text": [
      " 95%|███████████████████████████████████████████████████████████████████████████    | 950/1000 [16:15<00:51,  1.03s/it]"
     ]
    },
    {
     "name": "stdout",
     "output_type": "stream",
     "text": [
      "Epoch: 950/1000............. Loss: 9.2938\n"
     ]
    },
    {
     "name": "stderr",
     "output_type": "stream",
     "text": [
      " 96%|███████████████████████████████████████████████████████████████████████████▊   | 960/1000 [16:25<00:41,  1.05s/it]"
     ]
    },
    {
     "name": "stdout",
     "output_type": "stream",
     "text": [
      "Epoch: 960/1000............. Loss: 11.4352\n"
     ]
    },
    {
     "name": "stderr",
     "output_type": "stream",
     "text": [
      " 97%|████████████████████████████████████████████████████████████████████████████▋  | 970/1000 [16:36<00:31,  1.04s/it]"
     ]
    },
    {
     "name": "stdout",
     "output_type": "stream",
     "text": [
      "Epoch: 970/1000............. Loss: 8.0148\n"
     ]
    },
    {
     "name": "stderr",
     "output_type": "stream",
     "text": [
      " 98%|█████████████████████████████████████████████████████████████████████████████▍ | 980/1000 [16:46<00:20,  1.05s/it]"
     ]
    },
    {
     "name": "stdout",
     "output_type": "stream",
     "text": [
      "Epoch: 980/1000............. Loss: 10.5507\n"
     ]
    },
    {
     "name": "stderr",
     "output_type": "stream",
     "text": [
      " 99%|██████████████████████████████████████████████████████████████████████████████▏| 990/1000 [16:56<00:10,  1.04s/it]"
     ]
    },
    {
     "name": "stdout",
     "output_type": "stream",
     "text": [
      "Epoch: 990/1000............. Loss: 7.4733\n"
     ]
    },
    {
     "name": "stderr",
     "output_type": "stream",
     "text": [
      "100%|██████████████████████████████████████████████████████████████████████████████| 1000/1000 [17:07<00:00,  1.03s/it]"
     ]
    },
    {
     "name": "stdout",
     "output_type": "stream",
     "text": [
      "Epoch: 1000/1000............. Loss: 7.8090\n"
     ]
    },
    {
     "name": "stderr",
     "output_type": "stream",
     "text": [
      "\n"
     ]
    }
   ],
   "source": [
    "# Instantiate the model with hyperparameters\n",
    "input_size = 10 \n",
    "output_size = 19\n",
    "model = TransformerModel(ninp=input_size,output_size=output_size,nhead=2,nhid=256,nlayers=3,dropout=0.1)\n",
    "# We'll also set the model to the device that we defined earlier (default is CPU)\n",
    "model.to(device)\n",
    "\n",
    "# Define hyperparameters\n",
    "n_epochs = 1000\n",
    "lr=0.01\n",
    "\n",
    "# Define Loss, Optimizer\n",
    "criterion = nn.CrossEntropyLoss()\n",
    "optimizer = torch.optim.Adam(model.parameters(), lr=lr)\n",
    "\n",
    "batch_size = 1000\n",
    "torch.cuda.empty_cache()\n",
    "for epoch in tqdm(range(1, n_epochs + 1)):\n",
    "    model.train()\n",
    "    total_loss = 0.\n",
    "    for batch, i in enumerate(range(0, x_.size(0) - 1, batch_size)):\n",
    "\n",
    "        data = x_[i:i+batch_size]\n",
    "        optimizer.zero_grad() # Clears existing gradients from previous epoch\n",
    "\n",
    "        output, hidden = model(data.float())\n",
    "        loss = criterion(output, y_[i:i+batch_size])\n",
    "        loss.backward() # Does backpropagation and calculates gradients\n",
    "        torch.nn.utils.clip_grad_norm_(model.parameters(), 0.5)\n",
    "        optimizer.step() # Updates the weights accordingly\n",
    "        total_loss += loss.item()\n",
    "    if epoch%10 == 0:\n",
    "        print('Epoch: {}/{}.............'.format(epoch, n_epochs), end=' ')\n",
    "        print(\"Loss: {:.4f}\".format(total_loss))"
   ]
  },
  {
   "cell_type": "code",
   "execution_count": 12,
   "metadata": {},
   "outputs": [],
   "source": [
    "model.to('cpu').eval() # Turn on the evaluation mode\n",
    "with torch.no_grad():\n",
    "    output,hidden = model(x_.float().to('cpu'))"
   ]
  },
  {
   "cell_type": "code",
   "execution_count": 13,
   "metadata": {},
   "outputs": [
    {
     "name": "stdout",
     "output_type": "stream",
     "text": [
      "0.11617\n"
     ]
    }
   ],
   "source": [
    "#output,hidden = evaluate(model,x_.float())\n",
    "hidden_plot = pd.DataFrame(torch.cat([hidden.squeeze(0),output.argmax(1).unsqueeze(1)],dim=1).detach().cpu().numpy(),\n",
    "            columns=['x','y','z','behavior'])\n",
    "score = sum(acc_combo(y_true, y_pred) for y_true, y_pred in\n",
    "            zip(output.argmax(1).detach().cpu().numpy(), y)) / y.shape[0]\n",
    "print(round(score, 5))"
   ]
  },
  {
   "cell_type": "code",
   "execution_count": 54,
   "metadata": {},
   "outputs": [
    {
     "data": {
      "text/plain": [
       "torch.Size([7292, 60, 10])"
      ]
     },
     "execution_count": 54,
     "metadata": {},
     "output_type": "execute_result"
    }
   ],
   "source": [
    "x_[:70000].size()"
   ]
  },
  {
   "cell_type": "code",
   "execution_count": 47,
   "metadata": {},
   "outputs": [],
   "source": [
    "\n",
    "\n",
    "pe = torch.zeros(60, 10)\n",
    "position = torch.arange(0, 60, dtype=torch.float).unsqueeze(1)\n",
    "div_term = torch.exp(torch.arange(0, 10, 2).float() * (-math.log(10000.0) / 60))\n",
    "pe[:, 0::2] = torch.sin(position * div_term)\n",
    "pe[:, 1::2] = torch.cos(position * div_term)\n",
    "pe = pe.unsqueeze(0).transpose(0, 1)"
   ]
  },
  {
   "cell_type": "code",
   "execution_count": 49,
   "metadata": {},
   "outputs": [
    {
     "data": {
      "text/plain": [
       "torch.Size([60, 1, 10])"
      ]
     },
     "execution_count": 49,
     "metadata": {},
     "output_type": "execute_result"
    }
   ],
   "source": [
    "pe.size()"
   ]
  },
  {
   "cell_type": "code",
   "execution_count": 38,
   "metadata": {},
   "outputs": [
    {
     "data": {
      "text/plain": [
       "torch.Size([60, 30])"
      ]
     },
     "execution_count": 38,
     "metadata": {},
     "output_type": "execute_result"
    }
   ],
   "source": [
    "torch.sin(position * div_term).size()"
   ]
  },
  {
   "cell_type": "code",
   "execution_count": 43,
   "metadata": {},
   "outputs": [
    {
     "data": {
      "text/plain": [
       "torch.Size([60, 1])"
      ]
     },
     "execution_count": 43,
     "metadata": {},
     "output_type": "execute_result"
    }
   ],
   "source": [
    "torch.arange(0, 60, dtype=torch.float).unsqueeze(1).size()"
   ]
  },
  {
   "cell_type": "code",
   "execution_count": 88,
   "metadata": {},
   "outputs": [
    {
     "data": {
      "text/plain": [
       "18007"
      ]
     },
     "execution_count": 88,
     "metadata": {},
     "output_type": "execute_result"
    }
   ],
   "source": [
    "import gc\n",
    "\n",
    "gc.collect()"
   ]
  },
  {
   "cell_type": "code",
   "execution_count": 89,
   "metadata": {},
   "outputs": [
    {
     "data": {
      "text/plain": [
       "'|===========================================================================|\\n|                  PyTorch CUDA memory summary, device ID 0                 |\\n|---------------------------------------------------------------------------|\\n|            CUDA OOMs: 6            |        cudaMalloc retries: 7         |\\n|===========================================================================|\\n|        Metric         | Cur Usage  | Peak Usage | Tot Alloc  | Tot Freed  |\\n|---------------------------------------------------------------------------|\\n| Allocated memory      |  428778 KB |    6139 MB |    2599 GB |    2598 GB |\\n|       from large pool |  428409 KB |    6130 MB |    2590 GB |    2589 GB |\\n|       from small pool |     369 KB |      28 MB |       9 GB |       9 GB |\\n|---------------------------------------------------------------------------|\\n| Active memory         |  428778 KB |    6139 MB |    2599 GB |    2598 GB |\\n|       from large pool |  428409 KB |    6130 MB |    2590 GB |    2589 GB |\\n|       from small pool |     369 KB |      28 MB |       9 GB |       9 GB |\\n|---------------------------------------------------------------------------|\\n| GPU reserved memory   |    6246 MB |    6246 MB |    9318 MB |    3072 MB |\\n|       from large pool |    6234 MB |    6234 MB |    9282 MB |    3048 MB |\\n|       from small pool |      12 MB |      36 MB |      36 MB |      24 MB |\\n|---------------------------------------------------------------------------|\\n| Non-releasable memory |  670997 KB |     829 MB |  689786 MB |  689131 MB |\\n|       from large pool |  661126 KB |     819 MB |  679747 MB |  679101 MB |\\n|       from small pool |    9871 KB |      11 MB |   10039 MB |   10030 MB |\\n|---------------------------------------------------------------------------|\\n| Allocations           |     138    |    1204    |  315884    |  315746    |\\n|       from large pool |      13    |     166    |  108115    |  108102    |\\n|       from small pool |     125    |    1067    |  207769    |  207644    |\\n|---------------------------------------------------------------------------|\\n| Active allocs         |     138    |    1204    |  315884    |  315746    |\\n|       from large pool |      13    |     166    |  108115    |  108102    |\\n|       from small pool |     125    |    1067    |  207769    |  207644    |\\n|---------------------------------------------------------------------------|\\n| GPU reserved segments |      51    |      85    |      96    |      45    |\\n|       from large pool |      45    |      67    |      78    |      33    |\\n|       from small pool |       6    |      18    |      18    |      12    |\\n|---------------------------------------------------------------------------|\\n| Non-releasable allocs |      34    |      53    |  140521    |  140487    |\\n|       from large pool |      17    |      30    |   85456    |   85439    |\\n|       from small pool |      17    |      29    |   55065    |   55048    |\\n|===========================================================================|\\n'"
      ]
     },
     "execution_count": 89,
     "metadata": {},
     "output_type": "execute_result"
    }
   ],
   "source": [
    "torch.cuda.memory_summary(device=None, abbreviated=False)"
   ]
  },
  {
   "cell_type": "code",
   "execution_count": null,
   "metadata": {},
   "outputs": [],
   "source": []
  }
 ],
 "metadata": {
  "kernelspec": {
   "display_name": "Python 3",
   "language": "python",
   "name": "python3"
  },
  "language_info": {
   "codemirror_mode": {
    "name": "ipython",
    "version": 3
   },
   "file_extension": ".py",
   "mimetype": "text/x-python",
   "name": "python",
   "nbconvert_exporter": "python",
   "pygments_lexer": "ipython3",
   "version": "3.8.3"
  }
 },
 "nbformat": 4,
 "nbformat_minor": 4
}
